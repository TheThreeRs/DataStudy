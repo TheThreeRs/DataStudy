{
  "nbformat": 4,
  "nbformat_minor": 0,
  "metadata": {
    "colab": {
      "name": "TG ZeroToAdvancedAMLFraud",
      "provenance": [],
      "collapsed_sections": [],
      "include_colab_link": true
    },
    "kernelspec": {
      "display_name": "Python 3",
      "name": "python3"
    }
  },
  "cells": [
    {
      "cell_type": "markdown",
      "metadata": {
        "id": "view-in-github",
        "colab_type": "text"
      },
      "source": [
        "<a href=\"https://colab.research.google.com/github/TheThreeRs/DataStudy/blob/main/TG_ZeroToAdvancedAMLFraud.ipynb\" target=\"_parent\"><img src=\"https://colab.research.google.com/assets/colab-badge.svg\" alt=\"Open In Colab\"/></a>"
      ]
    },
    {
      "cell_type": "markdown",
      "metadata": {
        "id": "IemCki2KDDH4"
      },
      "source": [
        "## Setup TigerGraph Server\n",
        "\n",
        "> Note: If this is your first time using TigerGraph Cloud, checkout the this [blog](https://www.tigergraph.com/blog/getting-started-with-tigergraph-3-0/) to learn the basics of deploying an instance on tgcloud.io\n",
        "\n",
        "For this workshop you can choose `Fraud and Money Laundering Detection (Fin. Services) v3` as the starter kit.\n",
        "\n",
        "![MR](https://miro.medium.com/max/1400/1*8ZGz7MccIpFYSaqO1bszyQ.png)\n",
        "\n",
        "Once you have the box provisioned with the Starter Kit mentioned above open GraphStudio.\n",
        "\n",
        "![GS](https://miro.medium.com/max/1400/1*D9Ya_eBWstx-xv_i-9gbQw.png)\n",
        "\n",
        "On the top right you will see `Global View`. Click on that and choose `MyGraph`. Once you select `MyGraph`, Global View will go away and it will look simliar to this.\n",
        "\n",
        "![GS2](https://miro.medium.com/max/1400/1*d6hPhuJE7qttBhCk37cTWA.png)\n",
        "\n",
        "Perfect. Now you Graph is UP. Let's move on. "
      ]
    },
    {
      "cell_type": "markdown",
      "metadata": {
        "id": "1Thn3Tp3vfrI"
      },
      "source": [
        "### Grab and Import Packages"
      ]
    },
    {
      "cell_type": "code",
      "metadata": {
        "id": "gLfGLjW26zVl"
      },
      "source": [
        "# FETCH PACKAGES\n",
        "!pip install pyTigerGraphBeta\n",
        "import pyTigerGraphBeta as tg\n",
        "import pandas as pd"
      ],
      "execution_count": null,
      "outputs": []
    },
    {
      "cell_type": "markdown",
      "metadata": {
        "id": "HqiLZEVnvnD7"
      },
      "source": [
        "### Setup Connection to TigerGraph"
      ]
    },
    {
      "cell_type": "code",
      "metadata": {
        "id": "67vQSggz7KdE"
      },
      "source": [
        "# SETUP TIGERGRAPH CONNECTION\n",
        "conn = tg.TigerGraphConnection(host=\"https://vlad-ml3.i.tgcloud.io\", graphname=\"AntiFraud\", username=\"tigergraph\", password=\"tigergraph\")\n",
        "# be mindful of the trailing '/' after the domain ...no dash after xyz.i.tgcloud.io"
      ],
      "execution_count": null,
      "outputs": []
    },
    {
      "cell_type": "code",
      "metadata": {
        "id": "NzEW0b30-KaU"
      },
      "source": [
        "# Quick Connection Test\n",
        "print(conn.gsql('''LS''', options=[]))"
      ],
      "execution_count": null,
      "outputs": []
    },
    {
      "cell_type": "markdown",
      "metadata": {
        "id": "zpC5Q6hSQM2R"
      },
      "source": [
        "*Create API token in TGCloud prior to next steps"
      ]
    },
    {
      "cell_type": "code",
      "metadata": {
        "id": "12SHVKMG-lQU"
      },
      "source": [
        "conn.apiToken = conn.getToken(\"7scbctvbo8un1d8t7i2aeq9pnd7b1p1d\")"
      ],
      "execution_count": null,
      "outputs": []
    },
    {
      "cell_type": "markdown",
      "metadata": {
        "id": "f318RDSnvwgn"
      },
      "source": [
        "## Basic Queries\n"
      ]
    },
    {
      "cell_type": "markdown",
      "metadata": {
        "id": "SPpJhdCGXkSn"
      },
      "source": [
        "*Map and Load Data prior to query execution"
      ]
    },
    {
      "cell_type": "code",
      "metadata": {
        "id": "ciHGinIy_17j"
      },
      "source": [
        "# Testing to see if all is well\n",
        "print(conn.gsql('''\n",
        "USE GRAPH AntiFraud\n",
        "CREATE OR REPLACE QUERY Test() FOR GRAPH AntiFraud { \n",
        " \n",
        "  PRINT \"test\"; \n",
        "}\n",
        "''', options=[]))"
      ],
      "execution_count": null,
      "outputs": []
    },
    {
      "cell_type": "code",
      "metadata": {
        "id": "WtGTAFbGCAX0"
      },
      "source": [
        "# FETCH DATA to CHECK FOR LOADED VERTICES\n",
        "print(conn.gsql('''\n",
        "USE GRAPH AntiFraud\n",
        "INTERPRET  QUERY () FOR GRAPH AntiFraud { \n",
        "  seed = {User.*};\n",
        "  S1 = SELECT s FROM seed:s LIMIT 3; \n",
        "  PRINT S1; \n",
        "}\n",
        "''', options=[]))"
      ],
      "execution_count": null,
      "outputs": []
    },
    {
      "cell_type": "code",
      "metadata": {
        "id": "M1Ro0ByCIfkz"
      },
      "source": [
        "#First Query \n",
        "print(conn.gsql('''\n",
        "CREATE OR REPLACE QUERY selectUser(VERTEX<User> user_id) FOR GRAPH AntiFraud { \n",
        "  seed = {user_id};\n",
        "  S1 = SELECT s FROM seed:s; \n",
        "  PRINT S1; \n",
        "}\n",
        "''', options=[]))"
      ],
      "execution_count": null,
      "outputs": []
    },
    {
      "cell_type": "code",
      "metadata": {
        "id": "9uswl2dXaQwy"
      },
      "source": [
        "# CREATE/INSTALL QUERY FOR USER TRANSACTIONS\n",
        "print(conn.gsql('''\n",
        "CREATE OR REPLACE QUERY selectUserTx(VERTEX<User> user_id) FOR GRAPH AntiFraud { \n",
        "  ListAccum<EDGE> @@txSend, @@txRecieve;\n",
        "  seed = {user_id};\n",
        " \n",
        "  SendTx = SELECT tgt FROM seed:s -(User_Transfer_Transaction:e)-> Transaction:tgt\n",
        "          // WHERE s.user_id == user_id\n",
        "           ACCUM @@txSend +=  e;\n",
        " \n",
        "  RecieveTx = SELECT tgt FROM seed:s -(User_Recieve_Transaction:e)-> Transaction:tgt\n",
        "            //  WHERE s.id == acct\n",
        "              ACCUM @@txRecieve += e;\n",
        " \n",
        "  PRINT @@txSend, @@txRecieve; \n",
        "}\n",
        "''', options=[]))"
      ],
      "execution_count": null,
      "outputs": []
    },
    {
      "cell_type": "markdown",
      "metadata": {
        "id": "eLT7H-1AKrtU"
      },
      "source": [
        "# DML / Query Capability"
      ]
    },
    {
      "cell_type": "code",
      "metadata": {
        "id": "_xwdEHlcus3A"
      },
      "source": [
        "# Add Account Node and Edges\n",
        "print(conn.gsql('''\n",
        "USE GRAPH AntiFraud \n",
        "\n",
        "DROP JOB add_Account_and_edges\n",
        "\n",
        "CREATE SCHEMA_CHANGE JOB add_Account_and_edges FOR GRAPH AntiFraud{\n",
        "  //ALTER VERTEX User ADD ATTRIBUTE (pagerank FLOAT); \n",
        "  ADD VERTEX Account (PRIMARY_ID id STRING, cnt_tx INT) WITH primary_id_as_attribute=\"true\";\n",
        "  ADD UNDIRECTED EDGE User_to_Account (FROM User, TO Account);\n",
        "  ADD UNDIRECTED EDGE Account_to_Transaction (FROM Account, TO Transaction);\n",
        "   \n",
        "}\n",
        "RUN SCHEMA_CHANGE JOB add_Account_and_edges\n",
        "''', options=[]))"
      ],
      "execution_count": null,
      "outputs": []
    },
    {
      "cell_type": "markdown",
      "metadata": {
        "id": "gae4MBcu9SlL"
      },
      "source": [
        "*Now Map Data to the Account and User_to_Account edge in TG Studio AND Load Data if not done already\n"
      ]
    },
    {
      "cell_type": "code",
      "metadata": {
        "id": "bvCT5No5Rz57"
      },
      "source": [
        "# CREATE QUERY TO INSERT AND ADD Account/Account_to_Transaction Edge\n",
        "print(conn.gsql('''\n",
        "USE GRAPH AntiFraud\n",
        "CREATE OR REPLACE QUERY PerformInsertEnrich(/* Parameters here */) FOR GRAPH AntiFraud { \n",
        "  SumAccum<DOUBLE> @s_sumAmt, @r_sumAmt;\n",
        "  SumAccum<DOUBLE> @s_txCnt, @r_txCnt;\n",
        "  MinAccum<DOUBLE> @s_minAmt, @r_minAmt;\n",
        "  MaxAccum<DOUBLE> @s_maxAmt, @r_maxAmt;\n",
        "  AvgAccum @s_avgAmt, @r_avgAmt;\n",
        "  SumAccum<INT> @sums;\n",
        "  MapAccum<UINT, UINT> @@txmap;\n",
        "  SetAccum<VERTEX <Transaction>> @trans; \n",
        "  \n",
        "  //Goal is to insert the Account_to_Transaction edges \n",
        "  //AND add the # of transactions for each user in the corresponding user account vertex\n",
        "\n",
        "  Seed = {User.*}; //pick up ALL users in the graph\n",
        "  \n",
        "  acctSend = SELECT s FROM Seed:s -((User_Transfer_Transaction|User_Recieve_Transaction):e)-> Transaction:tgt  //Traverse along 2 edges\n",
        "             ACCUM \n",
        "                  s.@sums +=1,  //sum up the number of transactions for each person \n",
        "                  s.@trans += tgt; //storing each transaction record in a set\n",
        "  \n",
        "  acctTx = Select t FROM acctSend:s -(User_to_Account:e)- Account:t\n",
        "              ACCUM \n",
        "                  t.@trans = s.@trans,\n",
        "                  t.@sums = s.@sums //need to assign sum from previous query to this one for post-accum\n",
        "              POST-ACCUM   \n",
        "                  t.cnt_tx = t.@sums, //has to be same vertex type to perform the insert here\n",
        "              FOREACH i in t.@trans DO\n",
        "                  INSERT INTO Account_to_Transaction VALUES(t,i)  //iterate through our list structure and make edges\n",
        "              END;\n",
        "  \n",
        " // PRINT acctSend[acctSend.@sums];\n",
        " // PRINT acctTx[acctTx.@sums];\n",
        "  PRINT \"Edges Inserted, Accounts Updated\";\n",
        "}\n",
        "''', options=[]))"
      ],
      "execution_count": null,
      "outputs": []
    },
    {
      "cell_type": "markdown",
      "metadata": {
        "id": "Ypywre3yCXl9"
      },
      "source": [
        "*note Make pageRank attribute + publish before Installing queries"
      ]
    },
    {
      "cell_type": "markdown",
      "metadata": {
        "id": "ACwrA67l0lZW"
      },
      "source": [
        "INSTALL THE QUERY- Interpreted mode will NOT work for this query (until future release)"
      ]
    },
    {
      "cell_type": "markdown",
      "metadata": {
        "id": "v697v8VQYJb1"
      },
      "source": [
        "## Queries to Install for Feature Generation"
      ]
    },
    {
      "cell_type": "code",
      "metadata": {
        "id": "Tk3fW3Ipgaa9"
      },
      "source": [
        "# CREATE QUERY FOR GENERATING FEATURES USING PAGERANK\n",
        "print(conn.gsql('''\n",
        "USE GRAPH AntiFraud\n",
        "CREATE OR REPLACE QUERY pageRank (STRING v_type, STRING e_type,\n",
        " FLOAT max_change=0.001, INT max_iter=25, FLOAT damping=0.8, INT top_k = 100,\n",
        " BOOL print_accum = TRUE, STRING result_attr =  \"\", STRING file_path = \"\",\n",
        " BOOL display_edges = FALSE) FOR GRAPH AntiFraud{\n",
        "/*\n",
        " Compute the pageRank score for each vertex in the GRAPH\n",
        " In each iteration, compute a score for each vertex:\n",
        "     score = (1-damping) + damping*sum(received scores FROM its neighbors).\n",
        " The pageRank algorithm stops when either of the following is true:\n",
        " a) it reaches max_iter iterations;\n",
        " b) the max score change for any vertex compared to the last iteration <= max_change.\n",
        " v_type: vertex types to traverse          print_accum: print JSON output\n",
        " e_type: edge types to traverse            result_attr: INT attr to store results to\n",
        " max_iter; max #iterations                 file_path: file to write CSV output to\n",
        " top_k: #top scores to output              display_edges: output edges for visualization\n",
        " max_change: max allowed change between iterations to achieve convergence\n",
        " damping: importance of traversal vs. random teleport\n",
        "\n",
        " This query supports only taking in a single edge for the time being (8/13/2020).\n",
        "*/\n",
        "\tTYPEDEF TUPLE<VERTEX Vertex_ID, FLOAT score> Vertex_Score;\n",
        "\tHeapAccum<Vertex_Score>(top_k, score DESC) @@topScores;\n",
        "\tMaxAccum<FLOAT> @@max_diff = 9999;    # max score change in an iteration\n",
        "\tSumAccum<FLOAT> @recvd_score = 0; # sum of scores each vertex receives FROM neighbors\n",
        "\tSumAccum<FLOAT> @score = 1;           # initial score for every vertex is 1.\n",
        "\tSetAccum<EDGE> @@edgeSet;             # list of all edges, if display is needed\n",
        "\tFILE f (file_path);\n",
        "\n",
        "# PageRank iterations\t\n",
        "\tStart = {v_type};                     # Start with all vertices of specified type(s)\n",
        "\tWHILE @@max_diff > max_change LIMIT max_iter DO\n",
        "\t\t\t@@max_diff = 0;\n",
        "\t\t\tV = SELECT s\n",
        "\t\t\t\tFROM Start:s -(e_type:e)-> v_type:t\n",
        "\t\t\t\tACCUM t.@recvd_score += s.@score/(s.outdegree(e_type)) \n",
        "\t\t\t\tPOST-ACCUM s.@score = (1.0-damping) + damping * s.@recvd_score,\n",
        "\t\t\t\t\t\t   s.@recvd_score = 0,\n",
        "\t\t\t\t\t\t   @@max_diff += abs(s.@score - s.@score');\n",
        "\tEND; # END WHILE loop\n",
        "\n",
        "# Output\n",
        "\tIF file_path != \"\" THEN\n",
        "\t  f.println(\"Vertex_ID\", \"PageRank\");\n",
        "\tEND;\n",
        "\n",
        "\tV = SELECT s FROM Start:s\n",
        "\t\tPOST-ACCUM \n",
        "\t\t\tIF result_attr != \"\" THEN s.setAttr(result_attr, s.@score) END,\n",
        "\t\t\tIF file_path != \"\" THEN f.println(s, s.@score) END,\n",
        "\t\t\tIF print_accum THEN @@topScores += Vertex_Score(s, s.@score) END;\n",
        "\n",
        "\tIF print_accum THEN\n",
        "\t\tPRINT @@topScores;\n",
        "\t\tIF display_edges THEN\n",
        "\t\t\tPRINT Start[Start.@score];\n",
        "\t\t\tStart = SELECT s\n",
        "\t\t\t\t\tFROM Start:s -(e_type:e)-> v_type:t\n",
        "\t\t\t\t\tACCUM @@edgeSet += e;\n",
        "\t\t   PRINT @@edgeSet;\n",
        "\t\tEND;\n",
        "\tEND;\n",
        "}\n",
        "''', options=[]))"
      ],
      "execution_count": null,
      "outputs": []
    },
    {
      "cell_type": "code",
      "metadata": {
        "id": "BgDuk2rdZ7nD"
      },
      "source": [
        "# CREATE/INSTALL QUERY FOR ACCOUNTS TOP PAGERANK SCORES (run this after having run main pageRank query)\n",
        "print(conn.gsql('''\n",
        "USE GRAPH AntiFraud\n",
        "CREATE OR REPLACE QUERY selectTopPageRank() FOR GRAPH AntiFraud { \n",
        "  seed = {User.*};\n",
        "  S1 = SELECT s FROM seed:s ORDER BY s.pagerank DESC LIMIT 25;\n",
        "  PRINT S1; \n",
        "}\n",
        "''', options=[]))"
      ],
      "execution_count": null,
      "outputs": []
    },
    {
      "cell_type": "code",
      "metadata": {
        "id": "PejzMO7o-V1M"
      },
      "source": [
        "# INSTALL QUERY FOR GENERATING FEATURES ABOUT ACCOUNT ACTIVITY\n",
        "print(conn.gsql('''INSTALL QUERY PerformInsertEnrich, pageRank, selectTopPageRank''', options=[]))"
      ],
      "execution_count": null,
      "outputs": []
    },
    {
      "cell_type": "code",
      "metadata": {
        "id": "Cpjzku0g-kJc"
      },
      "source": [
        "# INSTALL QUERY FOR GENERATING FEATURES USING PAGERANK (to install only this query)\n",
        "print(conn.gsql('''INSTALL QUERY pageRank''', options=[]))"
      ],
      "execution_count": null,
      "outputs": []
    },
    {
      "cell_type": "markdown",
      "metadata": {
        "id": "pO7AV8uAQwCj"
      },
      "source": [
        "\n",
        "## Queries for GraphStudio\n",
        "Select Account Query\n",
        "```\n",
        "CREATE OR REPLACE QUERY selectUser(STRING user_id) FOR GRAPH AntiFraud { \n",
        "  seed = {user_id};\n",
        "  S1 = SELECT s FROM seed:s; \n",
        "  PRINT S1; \n",
        "}\n",
        "```\n",
        "Select top PageRank Query\n",
        "```\n",
        "CREATE OR REPLACE QUERY selectTopPageRank() FOR GRAPH AntiFraud { \n",
        "  seed = {User.*};\n",
        "  S1 = SELECT s FROM seed:s ORDER BY s.pagerank DESC LIMIT 15;\n",
        "  PRINT S1; \n",
        "}\n",
        "```\n",
        "Select Account Transactions\n",
        "```\n",
        "CREATE OR REPLACE QUERY selectAccountTx(VERTEX<User> user_id) FOR GRAPH AntiFraud { \n",
        "  ListAccum<EDGE> @@txSend, @@txRecieve;\n",
        "  seed = {user_id};\n",
        "  \n",
        "  SendTx = SELECT tgt FROM seed:s -(User_Transfer_Transaction:e)-> Transaction:tgt\n",
        "          // WHERE s.user_id == user_id\n",
        "           ACCUM @@txSend +=  e;\n",
        "  \n",
        "  RecieveTx = SELECT tgt FROM seed:s -(User_Recieve_Transaction:e)-> Transaction:tgt\n",
        "            //  WHERE s.id == acct\n",
        "              ACCUM @@txRecieve += e;\n",
        "  \n",
        "  PRINT @@txSend, @@txRecieve; \n",
        "\n",
        "}\n",
        "```"
      ]
    },
    {
      "cell_type": "code",
      "metadata": {
        "id": "3yXmr8GIJTv6"
      },
      "source": [
        "# INSTALL ALL QUERIES\n",
        "print(conn.gsql('''INSTALL QUERY ALL''', options=[]))"
      ],
      "execution_count": null,
      "outputs": []
    },
    {
      "cell_type": "code",
      "metadata": {
        "id": "6Xz0JvBabis4"
      },
      "source": [
        "# RUN INSTALLED QUERY selectAccount\n",
        "print(conn.runInstalledQuery(\"selectTopPageRank\", {}))"
      ],
      "execution_count": null,
      "outputs": []
    },
    {
      "cell_type": "code",
      "metadata": {
        "id": "3-tVZmaFbqSt"
      },
      "source": [
        "# RUN INSTALLED QUERY selectAccountTx\n",
        "print(conn.runInstalledQuery(\"selectUserTx\", {\"user_id\": \"8192\"}))"
      ],
      "execution_count": null,
      "outputs": []
    },
    {
      "cell_type": "markdown",
      "metadata": {
        "id": "N626ucFZZKd-"
      },
      "source": [
        "# WARNING: DROP ALL - Will Delete everything in your graph!\n",
        "Use this if you would like to start the notebook lab from the beginning."
      ]
    },
    {
      "cell_type": "code",
      "metadata": {
        "id": "iTqRBWF_Y-R_"
      },
      "source": [
        "#print(conn.gsql('''DROP ALL''', options=[]))"
      ],
      "execution_count": null,
      "outputs": []
    }
  ]
}