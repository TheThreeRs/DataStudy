{
  "nbformat": 4,
  "nbformat_minor": 0,
  "metadata": {
    "kernelspec": {
      "display_name": "Python 3",
      "language": "python",
      "name": "python3"
    },
    "language_info": {
      "codemirror_mode": {
        "name": "ipython",
        "version": 3
      },
      "file_extension": ".py",
      "mimetype": "text/x-python",
      "name": "python",
      "nbconvert_exporter": "python",
      "pygments_lexer": "ipython3",
      "version": "3.7.7-final"
    },
    "colab": {
      "name": "Homework-1.ipynb",
      "provenance": []
    }
  },
  "cells": [
    {
      "cell_type": "markdown",
      "metadata": {
        "id": "Jr7yYCiScc6p"
      },
      "source": [
        "## A. Loading Dataset from ScikitLearn"
      ]
    },
    {
      "cell_type": "markdown",
      "metadata": {
        "id": "a7FpcNDYcc6q"
      },
      "source": [
        "### Step 1\n",
        "Load `iris` dataset from ScikitLearn using `load_iris()`. Assign the dataset to `X` and the target values to `y`."
      ]
    },
    {
      "cell_type": "code",
      "metadata": {
        "scrolled": true,
        "id": "LJkr3_XMcc6q"
      },
      "source": [
        "from sklearn.datasets import load_iris"
      ],
      "execution_count": 11,
      "outputs": []
    },
    {
      "cell_type": "markdown",
      "metadata": {
        "id": "Ts-jLALDcc6r"
      },
      "source": [
        "### Step 2\n",
        "Print the dataset keys using `iris_dataset.keys()`"
      ]
    },
    {
      "cell_type": "code",
      "metadata": {
        "colab": {
          "base_uri": "https://localhost:8080/",
          "height": 193
        },
        "id": "pejK03Mscc6r",
        "outputId": "2036031c-c53f-4922-95d2-dbb745a6bf67"
      },
      "source": [
        "iris_dataset=load_iris()\n",
        "iris_dataset.keys()"
      ],
      "execution_count": 12,
      "outputs": [
        {
          "output_type": "execute_result",
          "data": {
            "text/plain": [
              "dict_keys(['data', 'target', 'target_names', 'DESCR', 'feature_names', 'filename'])"
            ]
          },
          "metadata": {},
          "execution_count": 12
        }
      ]
    },
    {
      "cell_type": "markdown",
      "metadata": {
        "id": "kyefvvVbcc6r"
      },
      "source": [
        "### Step 3\n",
        "Print the names of the categories in the target file"
      ]
    },
    {
      "cell_type": "code",
      "metadata": {
        "colab": {
          "base_uri": "https://localhost:8080/",
          "height": 174
        },
        "id": "GpM2vZVzcc6r",
        "outputId": "f8fba89a-fce7-44b7-d9e5-9ea0408e5362"
      },
      "source": [
        "print(\"Iris dataset target names:\\n\", iris_dataset['target_names'])"
      ],
      "execution_count": 13,
      "outputs": [
        {
          "output_type": "stream",
          "name": "stdout",
          "text": [
            "Iris dataset target names:\n ['setosa' 'versicolor' 'virginica']\n"
          ]
        }
      ]
    },
    {
      "cell_type": "markdown",
      "metadata": {
        "id": "GXAvDnXPcc6r"
      },
      "source": [
        "### Step 4\n",
        "Print the feature names in the Iris dataset"
      ]
    },
    {
      "cell_type": "code",
      "metadata": {
        "id": "vwp2eckMcc6s"
      },
      "source": [
        "print(\"Iris dataset feature names:\\n\", iris_dataset['feature_names'])"
      ],
      "execution_count": 14,
      "outputs": [
        {
          "output_type": "stream",
          "name": "stdout",
          "text": [
            "Iris dataset feature names:\n ['sepal length (cm)', 'sepal width (cm)', 'petal length (cm)', 'petal width (cm)']\n"
          ]
        }
      ]
    },
    {
      "cell_type": "markdown",
      "metadata": {
        "id": "0vUIPLgecc6s"
      },
      "source": [
        "### Step 5\n",
        "Print the type of the Iris dataset."
      ]
    },
    {
      "cell_type": "code",
      "metadata": {
        "colab": {
          "base_uri": "https://localhost:8080/",
          "height": 174
        },
        "id": "fLhFfKOScc6s",
        "outputId": "8c2e4c13-10fa-4551-bef4-90e9f7717f32"
      },
      "source": [
        "print('Iris dataset type type:\\n', type(iris_dataset))"
      ],
      "execution_count": 15,
      "outputs": [
        {
          "output_type": "stream",
          "name": "stdout",
          "text": [
            "Iris dataset type type:\n <class 'sklearn.utils.Bunch'>\n"
          ]
        }
      ]
    },
    {
      "cell_type": "markdown",
      "metadata": {
        "id": "CA50-LCncc6s"
      },
      "source": [
        "### Step 6\n",
        "Print the shape of the Iris dataset."
      ]
    },
    {
      "cell_type": "code",
      "metadata": {
        "id": "TyI2Ti1Zcc6s"
      },
      "source": [
        "print(\"Shape of the dataset:\\n\", iris_dataset[\"data\"].shape)\n",
        "import pandas as pd\n",
        "pd.isna(iris_dataset)\n",
        "iris_dataset\n",
        "panda_iris=pd.DataFrame(iris_dataset[\"data\"])\n",
        "#print(\"Shape of the dataset:\\n\", panda_iris[1].value_counts())"
      ],
      "execution_count": 36,
      "outputs": [
        {
          "output_type": "stream",
          "name": "stdout",
          "text": [
            "Shape of the dataset:\n (150, 4)\n"
          ]
        }
      ]
    },
    {
      "cell_type": "markdown",
      "metadata": {
        "id": "82ZfKickcc6s"
      },
      "source": [
        "### Step 7\n",
        "Print the first five rows of the Iris dataset."
      ]
    },
    {
      "cell_type": "code",
      "metadata": {
        "id": "94dBi6XWcc6t"
      },
      "source": [
        "iris_dataset[\"data\"][:5]"
      ],
      "execution_count": 37,
      "outputs": [
        {
          "output_type": "execute_result",
          "data": {
            "text/plain": [
              "array([[5.1, 3.5, 1.4, 0.2],\n",
              "       [4.9, 3. , 1.4, 0.2],\n",
              "       [4.7, 3.2, 1.3, 0.2],\n",
              "       [4.6, 3.1, 1.5, 0.2],\n",
              "       [5. , 3.6, 1.4, 0.2]])"
            ]
          },
          "metadata": {},
          "execution_count": 37
        }
      ]
    },
    {
      "cell_type": "markdown",
      "metadata": {
        "id": "e5x-YlWJcc6t"
      },
      "source": [
        "### Step 8\n",
        "Print the type of the target variable of Iris dataset."
      ]
    },
    {
      "cell_type": "code",
      "metadata": {
        "id": "sFH9Zql1cc6t"
      },
      "source": [
        "type(iris_dataset[\"target\"])"
      ],
      "execution_count": 38,
      "outputs": [
        {
          "output_type": "execute_result",
          "data": {
            "text/plain": [
              "numpy.ndarray"
            ]
          },
          "metadata": {},
          "execution_count": 38
        }
      ]
    },
    {
      "cell_type": "markdown",
      "metadata": {
        "id": "FJNLDdokcc6t"
      },
      "source": [
        "### Step 9\n",
        "Print the shape of the target variable of Iris dataset."
      ]
    },
    {
      "cell_type": "code",
      "metadata": {
        "id": "PA2Ga3vZcc6t"
      },
      "source": [
        "iris_dataset[\"target\"].shape"
      ],
      "execution_count": 39,
      "outputs": [
        {
          "output_type": "execute_result",
          "data": {
            "text/plain": [
              "(150,)"
            ]
          },
          "metadata": {},
          "execution_count": 39
        }
      ]
    },
    {
      "cell_type": "markdown",
      "metadata": {
        "id": "oyg-aqmVcc6t"
      },
      "source": [
        "### Step 10\n",
        "Print the entire target variable values of the Iris dataset."
      ]
    },
    {
      "cell_type": "code",
      "metadata": {
        "id": "uYHP3FWAcc6t"
      },
      "source": [
        "print(\"target array of dataset:\\n\",iris_dataset[\"target\"])\n",
        "target_df=pd.DataFrame(iris_dataset[\"target\"])\n",
        "print(\"target value counts:\\n\",target_df[0].value_counts())\n",
        "data_df=pd.DataFrame(iris_dataset[\"data\"], columns=iris_dataset[\"feature_names\"])\n",
        "# How do we group by?\n"
      ],
      "execution_count": 85,
      "outputs": [
        {
          "output_type": "stream",
          "name": "stdout",
          "text": [
            "target array of dataset:\n [0 0 0 0 0 0 0 0 0 0 0 0 0 0 0 0 0 0 0 0 0 0 0 0 0 0 0 0 0 0 0 0 0 0 0 0 0\n 0 0 0 0 0 0 0 0 0 0 0 0 0 1 1 1 1 1 1 1 1 1 1 1 1 1 1 1 1 1 1 1 1 1 1 1 1\n 1 1 1 1 1 1 1 1 1 1 1 1 1 1 1 1 1 1 1 1 1 1 1 1 1 1 2 2 2 2 2 2 2 2 2 2 2\n 2 2 2 2 2 2 2 2 2 2 2 2 2 2 2 2 2 2 2 2 2 2 2 2 2 2 2 2 2 2 2 2 2 2 2 2 2\n 2 2]\ntarget value counts:\n 2    50\n1    50\n0    50\nName: 0, dtype: int64\n"
          ]
        }
      ]
    },
    {
      "cell_type": "markdown",
      "metadata": {
        "id": "ckXCbDXpcc6u"
      },
      "source": [
        "### Step 11\n",
        "Import numpy with `import numpy as np` and use the `numpy.unique()` function to print the unique values of the target variable of Iris dataset"
      ]
    },
    {
      "cell_type": "code",
      "metadata": {
        "id": "42XWvnQUcc6u"
      },
      "source": [
        "import numpy as np\n",
        "np.unique(iris_dataset[\"target\"])"
      ],
      "execution_count": 86,
      "outputs": [
        {
          "output_type": "execute_result",
          "data": {
            "text/plain": [
              "array([0, 1, 2])"
            ]
          },
          "metadata": {},
          "execution_count": 86
        }
      ]
    },
    {
      "cell_type": "markdown",
      "metadata": {
        "id": "7bgisockcc6u"
      },
      "source": [
        "### Step 12\n",
        "Split dataset into train and test datasets using `from sklearn.model_selection import train_test_split`"
      ]
    },
    {
      "cell_type": "code",
      "metadata": {
        "id": "WIAttLe5cc6u"
      },
      "source": [
        "from sklearn.model_selection import train_test_split\n",
        "X_train, X_test, y_train, y_test= train_test_split(iris_dataset[\"data\"], iris_dataset[\"target\"])"
      ],
      "execution_count": 87,
      "outputs": []
    },
    {
      "cell_type": "markdown",
      "metadata": {
        "id": "MK1EUcmGcc6u"
      },
      "source": [
        "### Step 13\n",
        "Print the shape of train/test datasets and the train/test target variables."
      ]
    },
    {
      "cell_type": "code",
      "metadata": {
        "id": "WQYU6h5Hcc6u"
      },
      "source": [
        "print(X_test.shape, X_train.shape, y_test.shape, y_train.shape)"
      ],
      "execution_count": 88,
      "outputs": [
        {
          "output_type": "stream",
          "name": "stdout",
          "text": [
            "(38, 4) (112, 4) (38,) (112,)\n"
          ]
        }
      ]
    },
    {
      "cell_type": "markdown",
      "metadata": {
        "id": "8p7dPioacc6u"
      },
      "source": [
        "### Step 14\n",
        "Build your K-neighbors classifier for nearest neighbor of 1 using `from sklearn.neighbors import KNeighborsClassifier`, fit the model to your train dataset and make a prediction for teh data point of `[5, 1.9, 1, 0.2]`. Print your prediction class value as an integer and also the corresponding string label."
      ]
    },
    {
      "cell_type": "code",
      "metadata": {
        "id": "4X5R1yCKcc6v"
      },
      "source": [
        "from sklearn.neighbors import KNeighborsClassifier \n",
        "import plotly\n",
        "import plotly.express as px\n",
        "knn = KNeighborsClassifier(n_neighbors=3, algorithm='auto', metric='manhattan')\n",
        "knn.fit(X_train,y_train)\n",
        "y_test=knn.predict(X_test)\n",
        "y_test\n",
        "\n",
        "y_score = knn.predict_proba(X_test)[:, 1]\n",
        "\n",
        "fig = px.scatter(\n",
        "    X_test, x=0, y=1,\n",
        "    color=y_score, color_continuous_scale='RdBu',\n",
        "    symbol=y_test, symbol_map={'0': 'square-dot', '1': 'circle-dot'},\n",
        "    labels={'symbol': 'label', 'color': 'score of <br>first class'}\n",
        ")\n",
        "fig.update_traces(marker_size=12, marker_line_width=1.5)\n",
        "fig.update_layout(legend_orientation='h')\n",
        "fig.show()\n",
        "\n"
      ],
      "execution_count": 120,
      "outputs": [
        {
          "output_type": "error",
          "ename": "ModuleNotFoundError",
          "evalue": "No module named 'plotly'",
          "traceback": [
            "\u001b[0;31m---------------------------------------------------------------------------\u001b[0m",
            "\u001b[0;31mModuleNotFoundError\u001b[0m                       Traceback (most recent call last)",
            "\u001b[0;32m<ipython-input-120-0c77f075050a>\u001b[0m in \u001b[0;36m<module>\u001b[0;34m\u001b[0m\n\u001b[1;32m      1\u001b[0m \u001b[0;32mfrom\u001b[0m \u001b[0msklearn\u001b[0m\u001b[0;34m.\u001b[0m\u001b[0mneighbors\u001b[0m \u001b[0;32mimport\u001b[0m \u001b[0mKNeighborsClassifier\u001b[0m\u001b[0;34m\u001b[0m\u001b[0;34m\u001b[0m\u001b[0m\n\u001b[0;32m----> 2\u001b[0;31m \u001b[0;32mimport\u001b[0m \u001b[0mplotly\u001b[0m\u001b[0;34m\u001b[0m\u001b[0;34m\u001b[0m\u001b[0m\n\u001b[0m\u001b[1;32m      3\u001b[0m \u001b[0;32mimport\u001b[0m \u001b[0mplotly\u001b[0m\u001b[0;34m.\u001b[0m\u001b[0mexpress\u001b[0m \u001b[0;32mas\u001b[0m \u001b[0mpx\u001b[0m\u001b[0;34m\u001b[0m\u001b[0;34m\u001b[0m\u001b[0m\n\u001b[1;32m      4\u001b[0m \u001b[0mknn\u001b[0m \u001b[0;34m=\u001b[0m \u001b[0mKNeighborsClassifier\u001b[0m\u001b[0;34m(\u001b[0m\u001b[0mn_neighbors\u001b[0m\u001b[0;34m=\u001b[0m\u001b[0;36m3\u001b[0m\u001b[0;34m,\u001b[0m \u001b[0malgorithm\u001b[0m\u001b[0;34m=\u001b[0m\u001b[0;34m'auto'\u001b[0m\u001b[0;34m,\u001b[0m \u001b[0mmetric\u001b[0m\u001b[0;34m=\u001b[0m\u001b[0;34m'manhattan'\u001b[0m\u001b[0;34m)\u001b[0m\u001b[0;34m\u001b[0m\u001b[0;34m\u001b[0m\u001b[0m\n\u001b[1;32m      5\u001b[0m \u001b[0mknn\u001b[0m\u001b[0;34m.\u001b[0m\u001b[0mfit\u001b[0m\u001b[0;34m(\u001b[0m\u001b[0mX_train\u001b[0m\u001b[0;34m,\u001b[0m\u001b[0my_train\u001b[0m\u001b[0;34m)\u001b[0m\u001b[0;34m\u001b[0m\u001b[0;34m\u001b[0m\u001b[0m\n",
            "\u001b[0;31mModuleNotFoundError\u001b[0m: No module named 'plotly'"
          ]
        }
      ]
    },
    {
      "cell_type": "markdown",
      "metadata": {
        "id": "dX-nK1Cscc6v"
      },
      "source": [
        "# B. Loading a Dataset and exploring it"
      ]
    },
    {
      "cell_type": "markdown",
      "metadata": {
        "id": "dxoY-eNpcc6v"
      },
      "source": [
        "### Step 1\n",
        "Import the modules needed to explore the data"
      ]
    },
    {
      "cell_type": "code",
      "metadata": {
        "id": "LmQUi3Excc6v"
      },
      "source": [
        "import pandas as pd\n",
        "import numpy as np\n",
        "import seaborn as sns\n",
        "import matplotlib.pyplot as plt\n"
      ],
      "execution_count": null,
      "outputs": []
    },
    {
      "cell_type": "markdown",
      "metadata": {
        "id": "hFpP3N_mcc6v"
      },
      "source": [
        "### Step 2\n",
        "Import `auto_mpg.csv` dataset using pandas'`read_csv` function. Print the first three samples from your dataset, print the index range of the observations, and print the column names of your dataset"
      ]
    },
    {
      "cell_type": "code",
      "metadata": {
        "id": "PwMz_bQNcc6v"
      },
      "source": [
        "data_auto=pd.read_csv(\"auto_mpg.csv\")\n",
        "data_auto.columns\n",
        "data_auto.head(3)"
      ],
      "execution_count": 103,
      "outputs": [
        {
          "output_type": "execute_result",
          "data": {
            "text/plain": [
              "    mpg  cylinders  displacement  horsepower  weight  acceleration  \\\n",
              "0  18.0          8         307.0       130.0    3504          12.0   \n",
              "1  15.0          8         350.0       165.0    3693          11.5   \n",
              "2  18.0          8         318.0       150.0    3436          11.0   \n",
              "\n",
              "   model year  origin                   car name  \n",
              "0          70       1  chevrolet chevelle malibu  \n",
              "1          70       1          buick skylark 320  \n",
              "2          70       1         plymouth satellite  "
            ],
            "text/html": "<div>\n<style scoped>\n    .dataframe tbody tr th:only-of-type {\n        vertical-align: middle;\n    }\n\n    .dataframe tbody tr th {\n        vertical-align: top;\n    }\n\n    .dataframe thead th {\n        text-align: right;\n    }\n</style>\n<table border=\"1\" class=\"dataframe\">\n  <thead>\n    <tr style=\"text-align: right;\">\n      <th></th>\n      <th>mpg</th>\n      <th>cylinders</th>\n      <th>displacement</th>\n      <th>horsepower</th>\n      <th>weight</th>\n      <th>acceleration</th>\n      <th>model year</th>\n      <th>origin</th>\n      <th>car name</th>\n    </tr>\n  </thead>\n  <tbody>\n    <tr>\n      <th>0</th>\n      <td>18.0</td>\n      <td>8</td>\n      <td>307.0</td>\n      <td>130.0</td>\n      <td>3504</td>\n      <td>12.0</td>\n      <td>70</td>\n      <td>1</td>\n      <td>chevrolet chevelle malibu</td>\n    </tr>\n    <tr>\n      <th>1</th>\n      <td>15.0</td>\n      <td>8</td>\n      <td>350.0</td>\n      <td>165.0</td>\n      <td>3693</td>\n      <td>11.5</td>\n      <td>70</td>\n      <td>1</td>\n      <td>buick skylark 320</td>\n    </tr>\n    <tr>\n      <th>2</th>\n      <td>18.0</td>\n      <td>8</td>\n      <td>318.0</td>\n      <td>150.0</td>\n      <td>3436</td>\n      <td>11.0</td>\n      <td>70</td>\n      <td>1</td>\n      <td>plymouth satellite</td>\n    </tr>\n  </tbody>\n</table>\n</div>"
          },
          "metadata": {},
          "execution_count": 103
        }
      ]
    },
    {
      "cell_type": "markdown",
      "metadata": {
        "id": "suko0dXdcc6v"
      },
      "source": [
        "### Step 3\n",
        "Assign `mpg` column as output and name it as `y` and the rest of the data as the features and assign it to `X`. Print the shape of X."
      ]
    },
    {
      "cell_type": "code",
      "metadata": {
        "id": "2XDd26Jlcc6v"
      },
      "source": [
        "X=data_auto.drop(\"mpg\", axis=1)\n",
        "y=data_auto[\"mpg\"]\n",
        "X.shape"
      ],
      "execution_count": 106,
      "outputs": [
        {
          "output_type": "execute_result",
          "data": {
            "text/plain": [
              "(398, 8)"
            ]
          },
          "metadata": {},
          "execution_count": 106
        }
      ]
    },
    {
      "cell_type": "markdown",
      "metadata": {
        "id": "-HySj-38cc6v"
      },
      "source": [
        "### Step 4\n",
        "Bonus: Check the dataset if there are any missing values in any of the columns using `isnull().any()` functions."
      ]
    },
    {
      "cell_type": "code",
      "metadata": {
        "id": "x6G1VOQucc6w"
      },
      "source": [
        "data_auto.isnull().any()"
      ],
      "execution_count": 107,
      "outputs": [
        {
          "output_type": "execute_result",
          "data": {
            "text/plain": [
              "mpg             False\n",
              "cylinders       False\n",
              "displacement    False\n",
              "horsepower      False\n",
              "weight          False\n",
              "acceleration    False\n",
              "model year      False\n",
              "origin          False\n",
              "car name        False\n",
              "dtype: bool"
            ]
          },
          "metadata": {},
          "execution_count": 107
        }
      ]
    },
    {
      "cell_type": "markdown",
      "metadata": {
        "id": "PLJnbwDhcc6w"
      },
      "source": [
        "### Step 5\n",
        "Check the data types of each feature. Which columns are continuous and which are categorical?"
      ]
    },
    {
      "cell_type": "code",
      "metadata": {
        "id": "xmgNvFSOcc6w"
      },
      "source": [
        "data_auto.dtypes"
      ],
      "execution_count": 108,
      "outputs": [
        {
          "output_type": "execute_result",
          "data": {
            "text/plain": [
              "mpg             float64\n",
              "cylinders         int64\n",
              "displacement    float64\n",
              "horsepower      float64\n",
              "weight            int64\n",
              "acceleration    float64\n",
              "model year        int64\n",
              "origin            int64\n",
              "car name         object\n",
              "dtype: object"
            ]
          },
          "metadata": {},
          "execution_count": 108
        }
      ]
    },
    {
      "cell_type": "markdown",
      "metadata": {
        "id": "4Z3XiCHWcc6w"
      },
      "source": [
        "### Step 6\n",
        "Look at the unique elements of horsepower"
      ]
    },
    {
      "cell_type": "code",
      "metadata": {
        "id": "-KfEvvTLcc6w"
      },
      "source": [
        "data_auto.horsepower.unique"
      ],
      "execution_count": 109,
      "outputs": [
        {
          "output_type": "execute_result",
          "data": {
            "text/plain": [
              "<bound method Series.unique of 0      130.0\n",
              "1      165.0\n",
              "2      150.0\n",
              "3      150.0\n",
              "4      140.0\n",
              "       ...  \n",
              "393     86.0\n",
              "394     52.0\n",
              "395     84.0\n",
              "396     79.0\n",
              "397     82.0\n",
              "Name: horsepower, Length: 398, dtype: float64>"
            ]
          },
          "metadata": {},
          "execution_count": 109
        }
      ]
    },
    {
      "cell_type": "markdown",
      "metadata": {
        "id": "jkM5u056cc6w"
      },
      "source": [
        "### Step 7\n",
        "Let's describe data since everything looks in order. \n",
        "- See the statistical details of the dataset using `describe` and `info` methods."
      ]
    },
    {
      "cell_type": "code",
      "metadata": {
        "id": "qDRsE3Yfcc6w"
      },
      "source": [
        "#data_auto.describe\n",
        "data_auto.info\n",
        "\n"
      ],
      "execution_count": 112,
      "outputs": [
        {
          "output_type": "execute_result",
          "data": {
            "text/plain": [
              "<bound method DataFrame.info of       mpg  cylinders  displacement  horsepower  weight  acceleration  \\\n",
              "0    18.0          8         307.0       130.0    3504          12.0   \n",
              "1    15.0          8         350.0       165.0    3693          11.5   \n",
              "2    18.0          8         318.0       150.0    3436          11.0   \n",
              "3    16.0          8         304.0       150.0    3433          12.0   \n",
              "4    17.0          8         302.0       140.0    3449          10.5   \n",
              "..    ...        ...           ...         ...     ...           ...   \n",
              "393  27.0          4         140.0        86.0    2790          15.6   \n",
              "394  44.0          4          97.0        52.0    2130          24.6   \n",
              "395  32.0          4         135.0        84.0    2295          11.6   \n",
              "396  28.0          4         120.0        79.0    2625          18.6   \n",
              "397  31.0          4         119.0        82.0    2720          19.4   \n",
              "\n",
              "     model year  origin                   car name  \n",
              "0            70       1  chevrolet chevelle malibu  \n",
              "1            70       1          buick skylark 320  \n",
              "2            70       1         plymouth satellite  \n",
              "3            70       1              amc rebel sst  \n",
              "4            70       1                ford torino  \n",
              "..          ...     ...                        ...  \n",
              "393          82       1            ford mustang gl  \n",
              "394          82       2                  vw pickup  \n",
              "395          82       1              dodge rampage  \n",
              "396          82       1                ford ranger  \n",
              "397          82       1                 chevy s-10  \n",
              "\n",
              "[398 rows x 9 columns]>"
            ]
          },
          "metadata": {},
          "execution_count": 112
        }
      ]
    },
    {
      "cell_type": "markdown",
      "metadata": {
        "id": "W7Y2g7PBcc6w"
      },
      "source": [
        "### Step 8\n",
        "Let's specifically look at the description of the mpg feature"
      ]
    },
    {
      "cell_type": "code",
      "metadata": {
        "id": "3SJS-KCicc6x"
      },
      "source": [
        "data_auto[\"mpg\"]"
      ],
      "execution_count": 115,
      "outputs": [
        {
          "output_type": "execute_result",
          "data": {
            "text/plain": [
              "0      18.0\n",
              "1      15.0\n",
              "2      18.0\n",
              "3      16.0\n",
              "4      17.0\n",
              "       ... \n",
              "393    27.0\n",
              "394    44.0\n",
              "395    32.0\n",
              "396    28.0\n",
              "397    31.0\n",
              "Name: mpg, Length: 398, dtype: float64"
            ]
          },
          "metadata": {},
          "execution_count": 115
        }
      ]
    },
    {
      "cell_type": "markdown",
      "metadata": {
        "id": "KcYyhUoicc6x"
      },
      "source": [
        "### Step 9\n",
        "Visualize the distribution of the features of the data using `hist` method, use `bins=20`. "
      ]
    },
    {
      "cell_type": "code",
      "metadata": {
        "id": "tvC_EPCocc6x"
      },
      "source": [
        "data_auto.hist(bins=20)"
      ],
      "execution_count": 121,
      "outputs": [
        {
          "output_type": "execute_result",
          "data": {
            "text/plain": [
              "array([[<matplotlib.axes._subplots.AxesSubplot object at 0x7fb0395da110>,\n",
              "        <matplotlib.axes._subplots.AxesSubplot object at 0x7fb03ba2d390>,\n",
              "        <matplotlib.axes._subplots.AxesSubplot object at 0x7fb03b903650>],\n",
              "       [<matplotlib.axes._subplots.AxesSubplot object at 0x7fb03b2be590>,\n",
              "        <matplotlib.axes._subplots.AxesSubplot object at 0x7fb03b79d450>,\n",
              "        <matplotlib.axes._subplots.AxesSubplot object at 0x7fb03b547590>],\n",
              "       [<matplotlib.axes._subplots.AxesSubplot object at 0x7fb03bba2d50>,\n",
              "        <matplotlib.axes._subplots.AxesSubplot object at 0x7fb03bbdbfd0>,\n",
              "        <matplotlib.axes._subplots.AxesSubplot object at 0x7fb03bbe6090>]],\n",
              "      dtype=object)"
            ]
          },
          "metadata": {},
          "execution_count": 121
        },
        {
          "output_type": "display_data",
          "data": {
            "text/plain": "<Figure size 432x288 with 9 Axes>",
            "image/svg+xml": "<?xml version=\"1.0\" encoding=\"utf-8\" standalone=\"no\"?>\n<!DOCTYPE svg PUBLIC \"-//W3C//DTD SVG 1.1//EN\"\n  \"http://www.w3.org/Graphics/SVG/1.1/DTD/svg11.dtd\">\n<!-- Created with matplotlib (https://matplotlib.org/) -->\n<svg height=\"263.63625pt\" version=\"1.1\" viewBox=\"0 0 375.2875 263.63625\" width=\"375.2875pt\" xmlns=\"http://www.w3.org/2000/svg\" xmlns:xlink=\"http://www.w3.org/1999/xlink\">\n <defs>\n  <style type=\"text/css\">\n*{stroke-linecap:butt;stroke-linejoin:round;}\n  </style>\n </defs>\n <g id=\"figure_1\">\n  <g id=\"patch_1\">\n   <path d=\"M 0 263.63625 \nL 375.2875 263.63625 \nL 375.2875 0 \nL 0 0 \nz\n\" style=\"fill:none;\"/>\n  </g>\n  <g id=\"axes_1\">\n   <g id=\"patch_2\">\n    <path d=\"M 33.2875 82.718125 \nL 126.2875 82.718125 \nL 126.2875 22.318125 \nL 33.2875 22.318125 \nz\n\" style=\"fill:#ffffff;\"/>\n   </g>\n   <g id=\"patch_3\">\n    <path clip-path=\"url(#pd18b54cd6b)\" d=\"M 37.514773 82.718125 \nL 41.742045 82.718125 \nL 41.742045 79.690556 \nL 37.514773 79.690556 \nz\n\" style=\"fill:#1f77b4;\"/>\n   </g>\n   <g id=\"patch_4\">\n    <path clip-path=\"url(#pd18b54cd6b)\" d=\"M 41.742045 82.718125 \nL 45.969318 82.718125 \nL 45.969318 79.690556 \nL 41.742045 79.690556 \nz\n\" style=\"fill:#1f77b4;\"/>\n   </g>\n   <g id=\"patch_5\">\n    <path clip-path=\"url(#pd18b54cd6b)\" d=\"M 45.969318 82.718125 \nL 50.196591 82.718125 \nL 50.196591 77.672177 \nL 45.969318 77.672177 \nz\n\" style=\"fill:#1f77b4;\"/>\n   </g>\n   <g id=\"patch_6\">\n    <path clip-path=\"url(#pd18b54cd6b)\" d=\"M 50.196591 82.718125 \nL 54.423864 82.718125 \nL 54.423864 72.626229 \nL 50.196591 72.626229 \nz\n\" style=\"fill:#1f77b4;\"/>\n   </g>\n   <g id=\"patch_7\">\n    <path clip-path=\"url(#pd18b54cd6b)\" d=\"M 54.423864 82.718125 \nL 58.651136 82.718125 \nL 58.651136 61.525143 \nL 54.423864 61.525143 \nz\n\" style=\"fill:#1f77b4;\"/>\n   </g>\n   <g id=\"patch_8\">\n    <path clip-path=\"url(#pd18b54cd6b)\" d=\"M 58.651136 82.718125 \nL 62.878409 82.718125 \nL 62.878409 53.451625 \nL 58.651136 53.451625 \nz\n\" style=\"fill:#1f77b4;\"/>\n   </g>\n   <g id=\"patch_9\">\n    <path clip-path=\"url(#pd18b54cd6b)\" d=\"M 62.878409 82.718125 \nL 67.105682 82.718125 \nL 67.105682 53.451625 \nL 62.878409 53.451625 \nz\n\" style=\"fill:#1f77b4;\"/>\n   </g>\n   <g id=\"patch_10\">\n    <path clip-path=\"url(#pd18b54cd6b)\" d=\"M 67.105682 82.718125 \nL 71.332955 82.718125 \nL 71.332955 25.194315 \nL 67.105682 25.194315 \nz\n\" style=\"fill:#1f77b4;\"/>\n   </g>\n   <g id=\"patch_11\">\n    <path clip-path=\"url(#pd18b54cd6b)\" d=\"M 71.332955 82.718125 \nL 75.560227 82.718125 \nL 75.560227 25.194315 \nL 71.332955 25.194315 \nz\n\" style=\"fill:#1f77b4;\"/>\n   </g>\n   <g id=\"patch_12\">\n    <path clip-path=\"url(#pd18b54cd6b)\" d=\"M 75.560227 82.718125 \nL 79.7875 82.718125 \nL 79.7875 47.396488 \nL 75.560227 47.396488 \nz\n\" style=\"fill:#1f77b4;\"/>\n   </g>\n   <g id=\"patch_13\">\n    <path clip-path=\"url(#pd18b54cd6b)\" d=\"M 79.7875 82.718125 \nL 84.014773 82.718125 \nL 84.014773 31.249453 \nL 79.7875 31.249453 \nz\n\" style=\"fill:#1f77b4;\"/>\n   </g>\n   <g id=\"patch_14\">\n    <path clip-path=\"url(#pd18b54cd6b)\" d=\"M 84.014773 82.718125 \nL 88.242045 82.718125 \nL 88.242045 53.451625 \nL 84.014773 53.451625 \nz\n\" style=\"fill:#1f77b4;\"/>\n   </g>\n   <g id=\"patch_15\">\n    <path clip-path=\"url(#pd18b54cd6b)\" d=\"M 88.242045 82.718125 \nL 92.469318 82.718125 \nL 92.469318 63.543522 \nL 88.242045 63.543522 \nz\n\" style=\"fill:#1f77b4;\"/>\n   </g>\n   <g id=\"patch_16\">\n    <path clip-path=\"url(#pd18b54cd6b)\" d=\"M 92.469318 82.718125 \nL 96.696591 82.718125 \nL 96.696591 56.479194 \nL 92.469318 56.479194 \nz\n\" style=\"fill:#1f77b4;\"/>\n   </g>\n   <g id=\"patch_17\">\n    <path clip-path=\"url(#pd18b54cd6b)\" d=\"M 96.696591 82.718125 \nL 100.923864 82.718125 \nL 100.923864 75.653798 \nL 96.696591 75.653798 \nz\n\" style=\"fill:#1f77b4;\"/>\n   </g>\n   <g id=\"patch_18\">\n    <path clip-path=\"url(#pd18b54cd6b)\" d=\"M 100.923864 82.718125 \nL 105.151136 82.718125 \nL 105.151136 76.662987 \nL 100.923864 76.662987 \nz\n\" style=\"fill:#1f77b4;\"/>\n   </g>\n   <g id=\"patch_19\">\n    <path clip-path=\"url(#pd18b54cd6b)\" d=\"M 105.151136 82.718125 \nL 109.378409 82.718125 \nL 109.378409 75.653798 \nL 105.151136 75.653798 \nz\n\" style=\"fill:#1f77b4;\"/>\n   </g>\n   <g id=\"patch_20\">\n    <path clip-path=\"url(#pd18b54cd6b)\" d=\"M 109.378409 82.718125 \nL 113.605682 82.718125 \nL 113.605682 82.718125 \nL 109.378409 82.718125 \nz\n\" style=\"fill:#1f77b4;\"/>\n   </g>\n   <g id=\"patch_21\">\n    <path clip-path=\"url(#pd18b54cd6b)\" d=\"M 113.605682 82.718125 \nL 117.832955 82.718125 \nL 117.832955 80.699746 \nL 113.605682 80.699746 \nz\n\" style=\"fill:#1f77b4;\"/>\n   </g>\n   <g id=\"patch_22\">\n    <path clip-path=\"url(#pd18b54cd6b)\" d=\"M 117.832955 82.718125 \nL 122.060227 82.718125 \nL 122.060227 80.699746 \nL 117.832955 80.699746 \nz\n\" style=\"fill:#1f77b4;\"/>\n   </g>\n   <g id=\"matplotlib.axis_1\">\n    <g id=\"xtick_1\">\n     <g id=\"line2d_1\">\n      <path clip-path=\"url(#pd18b54cd6b)\" d=\"M 47.579708 82.718125 \nL 47.579708 22.318125 \n\" style=\"fill:none;stroke:#b0b0b0;stroke-linecap:square;stroke-width:0.8;\"/>\n     </g>\n     <g id=\"line2d_2\">\n      <defs>\n       <path d=\"M 0 0 \nL 0 3.5 \n\" id=\"m8733a3a572\" style=\"stroke:#000000;stroke-width:0.8;\"/>\n      </defs>\n      <g>\n       <use style=\"stroke:#000000;stroke-width:0.8;\" x=\"47.579708\" xlink:href=\"#m8733a3a572\" y=\"82.718125\"/>\n      </g>\n     </g>\n     <g id=\"text_1\">\n      <!-- 10 -->\n      <defs>\n       <path d=\"M 12.40625 8.296875 \nL 28.515625 8.296875 \nL 28.515625 63.921875 \nL 10.984375 60.40625 \nL 10.984375 69.390625 \nL 28.421875 72.90625 \nL 38.28125 72.90625 \nL 38.28125 8.296875 \nL 54.390625 8.296875 \nL 54.390625 0 \nL 12.40625 0 \nz\n\" id=\"DejaVuSans-49\"/>\n       <path d=\"M 31.78125 66.40625 \nQ 24.171875 66.40625 20.328125 58.90625 \nQ 16.5 51.421875 16.5 36.375 \nQ 16.5 21.390625 20.328125 13.890625 \nQ 24.171875 6.390625 31.78125 6.390625 \nQ 39.453125 6.390625 43.28125 13.890625 \nQ 47.125 21.390625 47.125 36.375 \nQ 47.125 51.421875 43.28125 58.90625 \nQ 39.453125 66.40625 31.78125 66.40625 \nz\nM 31.78125 74.21875 \nQ 44.046875 74.21875 50.515625 64.515625 \nQ 56.984375 54.828125 56.984375 36.375 \nQ 56.984375 17.96875 50.515625 8.265625 \nQ 44.046875 -1.421875 31.78125 -1.421875 \nQ 19.53125 -1.421875 13.0625 8.265625 \nQ 6.59375 17.96875 6.59375 36.375 \nQ 6.59375 54.828125 13.0625 64.515625 \nQ 19.53125 74.21875 31.78125 74.21875 \nz\n\" id=\"DejaVuSans-48\"/>\n      </defs>\n      <g transform=\"translate(41.217208 97.316563)scale(0.1 -0.1)\">\n       <use xlink:href=\"#DejaVuSans-49\"/>\n       <use x=\"63.623047\" xlink:href=\"#DejaVuSans-48\"/>\n      </g>\n     </g>\n    </g>\n    <g id=\"xtick_2\">\n     <g id=\"line2d_3\">\n      <path clip-path=\"url(#pd18b54cd6b)\" d=\"M 97.904383 82.718125 \nL 97.904383 22.318125 \n\" style=\"fill:none;stroke:#b0b0b0;stroke-linecap:square;stroke-width:0.8;\"/>\n     </g>\n     <g id=\"line2d_4\">\n      <g>\n       <use style=\"stroke:#000000;stroke-width:0.8;\" x=\"97.904383\" xlink:href=\"#m8733a3a572\" y=\"82.718125\"/>\n      </g>\n     </g>\n     <g id=\"text_2\">\n      <!-- 20 -->\n      <defs>\n       <path d=\"M 19.1875 8.296875 \nL 53.609375 8.296875 \nL 53.609375 0 \nL 7.328125 0 \nL 7.328125 8.296875 \nQ 12.9375 14.109375 22.625 23.890625 \nQ 32.328125 33.6875 34.8125 36.53125 \nQ 39.546875 41.84375 41.421875 45.53125 \nQ 43.3125 49.21875 43.3125 52.78125 \nQ 43.3125 58.59375 39.234375 62.25 \nQ 35.15625 65.921875 28.609375 65.921875 \nQ 23.96875 65.921875 18.8125 64.3125 \nQ 13.671875 62.703125 7.8125 59.421875 \nL 7.8125 69.390625 \nQ 13.765625 71.78125 18.9375 73 \nQ 24.125 74.21875 28.421875 74.21875 \nQ 39.75 74.21875 46.484375 68.546875 \nQ 53.21875 62.890625 53.21875 53.421875 \nQ 53.21875 48.921875 51.53125 44.890625 \nQ 49.859375 40.875 45.40625 35.40625 \nQ 44.1875 33.984375 37.640625 27.21875 \nQ 31.109375 20.453125 19.1875 8.296875 \nz\n\" id=\"DejaVuSans-50\"/>\n      </defs>\n      <g transform=\"translate(91.541883 97.316563)scale(0.1 -0.1)\">\n       <use xlink:href=\"#DejaVuSans-50\"/>\n       <use x=\"63.623047\" xlink:href=\"#DejaVuSans-48\"/>\n      </g>\n     </g>\n    </g>\n   </g>\n   <g id=\"matplotlib.axis_2\">\n    <g id=\"ytick_1\">\n     <g id=\"line2d_5\">\n      <path clip-path=\"url(#pd18b54cd6b)\" d=\"M 33.2875 82.718125 \nL 126.2875 82.718125 \n\" style=\"fill:none;stroke:#b0b0b0;stroke-linecap:square;stroke-width:0.8;\"/>\n     </g>\n     <g id=\"line2d_6\">\n      <defs>\n       <path d=\"M 0 0 \nL -3.5 0 \n\" id=\"m72f4297172\" style=\"stroke:#000000;stroke-width:0.8;\"/>\n      </defs>\n      <g>\n       <use style=\"stroke:#000000;stroke-width:0.8;\" x=\"33.2875\" xlink:href=\"#m72f4297172\" y=\"82.718125\"/>\n      </g>\n     </g>\n     <g id=\"text_3\">\n      <!-- 0 -->\n      <g transform=\"translate(19.925 86.517344)scale(0.1 -0.1)\">\n       <use xlink:href=\"#DejaVuSans-48\"/>\n      </g>\n     </g>\n    </g>\n    <g id=\"ytick_2\">\n     <g id=\"line2d_7\">\n      <path clip-path=\"url(#pd18b54cd6b)\" d=\"M 33.2875 62.534332 \nL 126.2875 62.534332 \n\" style=\"fill:none;stroke:#b0b0b0;stroke-linecap:square;stroke-width:0.8;\"/>\n     </g>\n     <g id=\"line2d_8\">\n      <g>\n       <use style=\"stroke:#000000;stroke-width:0.8;\" x=\"33.2875\" xlink:href=\"#m72f4297172\" y=\"62.534332\"/>\n      </g>\n     </g>\n     <g id=\"text_4\">\n      <!-- 20 -->\n      <g transform=\"translate(13.5625 66.333551)scale(0.1 -0.1)\">\n       <use xlink:href=\"#DejaVuSans-50\"/>\n       <use x=\"63.623047\" xlink:href=\"#DejaVuSans-48\"/>\n      </g>\n     </g>\n    </g>\n    <g id=\"ytick_3\">\n     <g id=\"line2d_9\">\n      <path clip-path=\"url(#pd18b54cd6b)\" d=\"M 33.2875 42.350539 \nL 126.2875 42.350539 \n\" style=\"fill:none;stroke:#b0b0b0;stroke-linecap:square;stroke-width:0.8;\"/>\n     </g>\n     <g id=\"line2d_10\">\n      <g>\n       <use style=\"stroke:#000000;stroke-width:0.8;\" x=\"33.2875\" xlink:href=\"#m72f4297172\" y=\"42.350539\"/>\n      </g>\n     </g>\n     <g id=\"text_5\">\n      <!-- 40 -->\n      <defs>\n       <path d=\"M 37.796875 64.3125 \nL 12.890625 25.390625 \nL 37.796875 25.390625 \nz\nM 35.203125 72.90625 \nL 47.609375 72.90625 \nL 47.609375 25.390625 \nL 58.015625 25.390625 \nL 58.015625 17.1875 \nL 47.609375 17.1875 \nL 47.609375 0 \nL 37.796875 0 \nL 37.796875 17.1875 \nL 4.890625 17.1875 \nL 4.890625 26.703125 \nz\n\" id=\"DejaVuSans-52\"/>\n      </defs>\n      <g transform=\"translate(13.5625 46.149758)scale(0.1 -0.1)\">\n       <use xlink:href=\"#DejaVuSans-52\"/>\n       <use x=\"63.623047\" xlink:href=\"#DejaVuSans-48\"/>\n      </g>\n     </g>\n    </g>\n   </g>\n   <g id=\"patch_23\">\n    <path d=\"M 33.2875 82.718125 \nL 33.2875 22.318125 \n\" style=\"fill:none;stroke:#000000;stroke-linecap:square;stroke-linejoin:miter;stroke-width:0.8;\"/>\n   </g>\n   <g id=\"patch_24\">\n    <path d=\"M 126.2875 82.718125 \nL 126.2875 22.318125 \n\" style=\"fill:none;stroke:#000000;stroke-linecap:square;stroke-linejoin:miter;stroke-width:0.8;\"/>\n   </g>\n   <g id=\"patch_25\">\n    <path d=\"M 33.2875 82.718125 \nL 126.2875 82.718125 \n\" style=\"fill:none;stroke:#000000;stroke-linecap:square;stroke-linejoin:miter;stroke-width:0.8;\"/>\n   </g>\n   <g id=\"patch_26\">\n    <path d=\"M 33.2875 22.318125 \nL 126.2875 22.318125 \n\" style=\"fill:none;stroke:#000000;stroke-linecap:square;stroke-linejoin:miter;stroke-width:0.8;\"/>\n   </g>\n   <g id=\"text_6\">\n    <!-- acceleration -->\n    <defs>\n     <path d=\"M 34.28125 27.484375 \nQ 23.390625 27.484375 19.1875 25 \nQ 14.984375 22.515625 14.984375 16.5 \nQ 14.984375 11.71875 18.140625 8.90625 \nQ 21.296875 6.109375 26.703125 6.109375 \nQ 34.1875 6.109375 38.703125 11.40625 \nQ 43.21875 16.703125 43.21875 25.484375 \nL 43.21875 27.484375 \nz\nM 52.203125 31.203125 \nL 52.203125 0 \nL 43.21875 0 \nL 43.21875 8.296875 \nQ 40.140625 3.328125 35.546875 0.953125 \nQ 30.953125 -1.421875 24.3125 -1.421875 \nQ 15.921875 -1.421875 10.953125 3.296875 \nQ 6 8.015625 6 15.921875 \nQ 6 25.140625 12.171875 29.828125 \nQ 18.359375 34.515625 30.609375 34.515625 \nL 43.21875 34.515625 \nL 43.21875 35.40625 \nQ 43.21875 41.609375 39.140625 45 \nQ 35.0625 48.390625 27.6875 48.390625 \nQ 23 48.390625 18.546875 47.265625 \nQ 14.109375 46.140625 10.015625 43.890625 \nL 10.015625 52.203125 \nQ 14.9375 54.109375 19.578125 55.046875 \nQ 24.21875 56 28.609375 56 \nQ 40.484375 56 46.34375 49.84375 \nQ 52.203125 43.703125 52.203125 31.203125 \nz\n\" id=\"DejaVuSans-97\"/>\n     <path d=\"M 48.78125 52.59375 \nL 48.78125 44.1875 \nQ 44.96875 46.296875 41.140625 47.34375 \nQ 37.3125 48.390625 33.40625 48.390625 \nQ 24.65625 48.390625 19.8125 42.84375 \nQ 14.984375 37.3125 14.984375 27.296875 \nQ 14.984375 17.28125 19.8125 11.734375 \nQ 24.65625 6.203125 33.40625 6.203125 \nQ 37.3125 6.203125 41.140625 7.25 \nQ 44.96875 8.296875 48.78125 10.40625 \nL 48.78125 2.09375 \nQ 45.015625 0.34375 40.984375 -0.53125 \nQ 36.96875 -1.421875 32.421875 -1.421875 \nQ 20.0625 -1.421875 12.78125 6.34375 \nQ 5.515625 14.109375 5.515625 27.296875 \nQ 5.515625 40.671875 12.859375 48.328125 \nQ 20.21875 56 33.015625 56 \nQ 37.15625 56 41.109375 55.140625 \nQ 45.0625 54.296875 48.78125 52.59375 \nz\n\" id=\"DejaVuSans-99\"/>\n     <path d=\"M 56.203125 29.59375 \nL 56.203125 25.203125 \nL 14.890625 25.203125 \nQ 15.484375 15.921875 20.484375 11.0625 \nQ 25.484375 6.203125 34.421875 6.203125 \nQ 39.59375 6.203125 44.453125 7.46875 \nQ 49.3125 8.734375 54.109375 11.28125 \nL 54.109375 2.78125 \nQ 49.265625 0.734375 44.1875 -0.34375 \nQ 39.109375 -1.421875 33.890625 -1.421875 \nQ 20.796875 -1.421875 13.15625 6.1875 \nQ 5.515625 13.8125 5.515625 26.8125 \nQ 5.515625 40.234375 12.765625 48.109375 \nQ 20.015625 56 32.328125 56 \nQ 43.359375 56 49.78125 48.890625 \nQ 56.203125 41.796875 56.203125 29.59375 \nz\nM 47.21875 32.234375 \nQ 47.125 39.59375 43.09375 43.984375 \nQ 39.0625 48.390625 32.421875 48.390625 \nQ 24.90625 48.390625 20.390625 44.140625 \nQ 15.875 39.890625 15.1875 32.171875 \nz\n\" id=\"DejaVuSans-101\"/>\n     <path d=\"M 9.421875 75.984375 \nL 18.40625 75.984375 \nL 18.40625 0 \nL 9.421875 0 \nz\n\" id=\"DejaVuSans-108\"/>\n     <path d=\"M 41.109375 46.296875 \nQ 39.59375 47.171875 37.8125 47.578125 \nQ 36.03125 48 33.890625 48 \nQ 26.265625 48 22.1875 43.046875 \nQ 18.109375 38.09375 18.109375 28.8125 \nL 18.109375 0 \nL 9.078125 0 \nL 9.078125 54.6875 \nL 18.109375 54.6875 \nL 18.109375 46.1875 \nQ 20.953125 51.171875 25.484375 53.578125 \nQ 30.03125 56 36.53125 56 \nQ 37.453125 56 38.578125 55.875 \nQ 39.703125 55.765625 41.0625 55.515625 \nz\n\" id=\"DejaVuSans-114\"/>\n     <path d=\"M 18.3125 70.21875 \nL 18.3125 54.6875 \nL 36.8125 54.6875 \nL 36.8125 47.703125 \nL 18.3125 47.703125 \nL 18.3125 18.015625 \nQ 18.3125 11.328125 20.140625 9.421875 \nQ 21.96875 7.515625 27.59375 7.515625 \nL 36.8125 7.515625 \nL 36.8125 0 \nL 27.59375 0 \nQ 17.1875 0 13.234375 3.875 \nQ 9.28125 7.765625 9.28125 18.015625 \nL 9.28125 47.703125 \nL 2.6875 47.703125 \nL 2.6875 54.6875 \nL 9.28125 54.6875 \nL 9.28125 70.21875 \nz\n\" id=\"DejaVuSans-116\"/>\n     <path d=\"M 9.421875 54.6875 \nL 18.40625 54.6875 \nL 18.40625 0 \nL 9.421875 0 \nz\nM 9.421875 75.984375 \nL 18.40625 75.984375 \nL 18.40625 64.59375 \nL 9.421875 64.59375 \nz\n\" id=\"DejaVuSans-105\"/>\n     <path d=\"M 30.609375 48.390625 \nQ 23.390625 48.390625 19.1875 42.75 \nQ 14.984375 37.109375 14.984375 27.296875 \nQ 14.984375 17.484375 19.15625 11.84375 \nQ 23.34375 6.203125 30.609375 6.203125 \nQ 37.796875 6.203125 41.984375 11.859375 \nQ 46.1875 17.53125 46.1875 27.296875 \nQ 46.1875 37.015625 41.984375 42.703125 \nQ 37.796875 48.390625 30.609375 48.390625 \nz\nM 30.609375 56 \nQ 42.328125 56 49.015625 48.375 \nQ 55.71875 40.765625 55.71875 27.296875 \nQ 55.71875 13.875 49.015625 6.21875 \nQ 42.328125 -1.421875 30.609375 -1.421875 \nQ 18.84375 -1.421875 12.171875 6.21875 \nQ 5.515625 13.875 5.515625 27.296875 \nQ 5.515625 40.765625 12.171875 48.375 \nQ 18.84375 56 30.609375 56 \nz\n\" id=\"DejaVuSans-111\"/>\n     <path d=\"M 54.890625 33.015625 \nL 54.890625 0 \nL 45.90625 0 \nL 45.90625 32.71875 \nQ 45.90625 40.484375 42.875 44.328125 \nQ 39.84375 48.1875 33.796875 48.1875 \nQ 26.515625 48.1875 22.3125 43.546875 \nQ 18.109375 38.921875 18.109375 30.90625 \nL 18.109375 0 \nL 9.078125 0 \nL 9.078125 54.6875 \nL 18.109375 54.6875 \nL 18.109375 46.1875 \nQ 21.34375 51.125 25.703125 53.5625 \nQ 30.078125 56 35.796875 56 \nQ 45.21875 56 50.046875 50.171875 \nQ 54.890625 44.34375 54.890625 33.015625 \nz\n\" id=\"DejaVuSans-110\"/>\n    </defs>\n    <g transform=\"translate(42.825625 16.318125)scale(0.12 -0.12)\">\n     <use xlink:href=\"#DejaVuSans-97\"/>\n     <use x=\"61.279297\" xlink:href=\"#DejaVuSans-99\"/>\n     <use x=\"116.259766\" xlink:href=\"#DejaVuSans-99\"/>\n     <use x=\"171.240234\" xlink:href=\"#DejaVuSans-101\"/>\n     <use x=\"232.763672\" xlink:href=\"#DejaVuSans-108\"/>\n     <use x=\"260.546875\" xlink:href=\"#DejaVuSans-101\"/>\n     <use x=\"322.070312\" xlink:href=\"#DejaVuSans-114\"/>\n     <use x=\"363.183594\" xlink:href=\"#DejaVuSans-97\"/>\n     <use x=\"424.462891\" xlink:href=\"#DejaVuSans-116\"/>\n     <use x=\"463.671875\" xlink:href=\"#DejaVuSans-105\"/>\n     <use x=\"491.455078\" xlink:href=\"#DejaVuSans-111\"/>\n     <use x=\"552.636719\" xlink:href=\"#DejaVuSans-110\"/>\n    </g>\n   </g>\n  </g>\n  <g id=\"axes_2\">\n   <g id=\"patch_27\">\n    <path d=\"M 154.1875 82.718125 \nL 247.1875 82.718125 \nL 247.1875 22.318125 \nL 154.1875 22.318125 \nz\n\" style=\"fill:#ffffff;\"/>\n   </g>\n   <g id=\"patch_28\">\n    <path clip-path=\"url(#p74e0db7fc3)\" d=\"M 158.414773 82.718125 \nL 162.642045 82.718125 \nL 162.642045 81.590207 \nL 158.414773 81.590207 \nz\n\" style=\"fill:#1f77b4;\"/>\n   </g>\n   <g id=\"patch_29\">\n    <path clip-path=\"url(#p74e0db7fc3)\" d=\"M 162.642045 82.718125 \nL 166.869318 82.718125 \nL 166.869318 82.718125 \nL 162.642045 82.718125 \nz\n\" style=\"fill:#1f77b4;\"/>\n   </g>\n   <g id=\"patch_30\">\n    <path clip-path=\"url(#p74e0db7fc3)\" d=\"M 166.869318 82.718125 \nL 171.096591 82.718125 \nL 171.096591 82.718125 \nL 166.869318 82.718125 \nz\n\" style=\"fill:#1f77b4;\"/>\n   </g>\n   <g id=\"patch_31\">\n    <path clip-path=\"url(#p74e0db7fc3)\" d=\"M 171.096591 82.718125 \nL 175.323864 82.718125 \nL 175.323864 82.718125 \nL 171.096591 82.718125 \nz\n\" style=\"fill:#1f77b4;\"/>\n   </g>\n   <g id=\"patch_32\">\n    <path clip-path=\"url(#p74e0db7fc3)\" d=\"M 175.323864 82.718125 \nL 179.551136 82.718125 \nL 179.551136 25.194315 \nL 175.323864 25.194315 \nz\n\" style=\"fill:#1f77b4;\"/>\n   </g>\n   <g id=\"patch_33\">\n    <path clip-path=\"url(#p74e0db7fc3)\" d=\"M 179.551136 82.718125 \nL 183.778409 82.718125 \nL 183.778409 82.718125 \nL 179.551136 82.718125 \nz\n\" style=\"fill:#1f77b4;\"/>\n   </g>\n   <g id=\"patch_34\">\n    <path clip-path=\"url(#p74e0db7fc3)\" d=\"M 183.778409 82.718125 \nL 188.005682 82.718125 \nL 188.005682 82.718125 \nL 183.778409 82.718125 \nz\n\" style=\"fill:#1f77b4;\"/>\n   </g>\n   <g id=\"patch_35\">\n    <path clip-path=\"url(#p74e0db7fc3)\" d=\"M 188.005682 82.718125 \nL 192.232955 82.718125 \nL 192.232955 82.718125 \nL 188.005682 82.718125 \nz\n\" style=\"fill:#1f77b4;\"/>\n   </g>\n   <g id=\"patch_36\">\n    <path clip-path=\"url(#p74e0db7fc3)\" d=\"M 192.232955 82.718125 \nL 196.460227 82.718125 \nL 196.460227 81.872187 \nL 192.232955 81.872187 \nz\n\" style=\"fill:#1f77b4;\"/>\n   </g>\n   <g id=\"patch_37\">\n    <path clip-path=\"url(#p74e0db7fc3)\" d=\"M 196.460227 82.718125 \nL 200.6875 82.718125 \nL 200.6875 82.718125 \nL 196.460227 82.718125 \nz\n\" style=\"fill:#1f77b4;\"/>\n   </g>\n   <g id=\"patch_38\">\n    <path clip-path=\"url(#p74e0db7fc3)\" d=\"M 200.6875 82.718125 \nL 204.914773 82.718125 \nL 204.914773 82.718125 \nL 200.6875 82.718125 \nz\n\" style=\"fill:#1f77b4;\"/>\n   </g>\n   <g id=\"patch_39\">\n    <path clip-path=\"url(#p74e0db7fc3)\" d=\"M 204.914773 82.718125 \nL 209.142045 82.718125 \nL 209.142045 82.718125 \nL 204.914773 82.718125 \nz\n\" style=\"fill:#1f77b4;\"/>\n   </g>\n   <g id=\"patch_40\">\n    <path clip-path=\"url(#p74e0db7fc3)\" d=\"M 209.142045 82.718125 \nL 213.369318 82.718125 \nL 213.369318 59.03185 \nL 209.142045 59.03185 \nz\n\" style=\"fill:#1f77b4;\"/>\n   </g>\n   <g id=\"patch_41\">\n    <path clip-path=\"url(#p74e0db7fc3)\" d=\"M 213.369318 82.718125 \nL 217.596591 82.718125 \nL 217.596591 82.718125 \nL 213.369318 82.718125 \nz\n\" style=\"fill:#1f77b4;\"/>\n   </g>\n   <g id=\"patch_42\">\n    <path clip-path=\"url(#p74e0db7fc3)\" d=\"M 217.596591 82.718125 \nL 221.823864 82.718125 \nL 221.823864 82.718125 \nL 217.596591 82.718125 \nz\n\" style=\"fill:#1f77b4;\"/>\n   </g>\n   <g id=\"patch_43\">\n    <path clip-path=\"url(#p74e0db7fc3)\" d=\"M 221.823864 82.718125 \nL 226.051136 82.718125 \nL 226.051136 82.718125 \nL 221.823864 82.718125 \nz\n\" style=\"fill:#1f77b4;\"/>\n   </g>\n   <g id=\"patch_44\">\n    <path clip-path=\"url(#p74e0db7fc3)\" d=\"M 226.051136 82.718125 \nL 230.278409 82.718125 \nL 230.278409 82.718125 \nL 226.051136 82.718125 \nz\n\" style=\"fill:#1f77b4;\"/>\n   </g>\n   <g id=\"patch_45\">\n    <path clip-path=\"url(#p74e0db7fc3)\" d=\"M 230.278409 82.718125 \nL 234.505682 82.718125 \nL 234.505682 82.718125 \nL 230.278409 82.718125 \nz\n\" style=\"fill:#1f77b4;\"/>\n   </g>\n   <g id=\"patch_46\">\n    <path clip-path=\"url(#p74e0db7fc3)\" d=\"M 234.505682 82.718125 \nL 238.732955 82.718125 \nL 238.732955 82.718125 \nL 234.505682 82.718125 \nz\n\" style=\"fill:#1f77b4;\"/>\n   </g>\n   <g id=\"patch_47\">\n    <path clip-path=\"url(#p74e0db7fc3)\" d=\"M 238.732955 82.718125 \nL 242.960227 82.718125 \nL 242.960227 53.674241 \nL 238.732955 53.674241 \nz\n\" style=\"fill:#1f77b4;\"/>\n   </g>\n   <g id=\"matplotlib.axis_3\">\n    <g id=\"xtick_3\">\n     <g id=\"line2d_11\">\n      <path clip-path=\"url(#p74e0db7fc3)\" d=\"M 175.323864 82.718125 \nL 175.323864 22.318125 \n\" style=\"fill:none;stroke:#b0b0b0;stroke-linecap:square;stroke-width:0.8;\"/>\n     </g>\n     <g id=\"line2d_12\">\n      <g>\n       <use style=\"stroke:#000000;stroke-width:0.8;\" x=\"175.323864\" xlink:href=\"#m8733a3a572\" y=\"82.718125\"/>\n      </g>\n     </g>\n     <g id=\"text_7\">\n      <!-- 4 -->\n      <g transform=\"translate(172.142614 97.316563)scale(0.1 -0.1)\">\n       <use xlink:href=\"#DejaVuSans-52\"/>\n      </g>\n     </g>\n    </g>\n    <g id=\"xtick_4\">\n     <g id=\"line2d_13\">\n      <path clip-path=\"url(#p74e0db7fc3)\" d=\"M 209.142045 82.718125 \nL 209.142045 22.318125 \n\" style=\"fill:none;stroke:#b0b0b0;stroke-linecap:square;stroke-width:0.8;\"/>\n     </g>\n     <g id=\"line2d_14\">\n      <g>\n       <use style=\"stroke:#000000;stroke-width:0.8;\" x=\"209.142045\" xlink:href=\"#m8733a3a572\" y=\"82.718125\"/>\n      </g>\n     </g>\n     <g id=\"text_8\">\n      <!-- 6 -->\n      <defs>\n       <path d=\"M 33.015625 40.375 \nQ 26.375 40.375 22.484375 35.828125 \nQ 18.609375 31.296875 18.609375 23.390625 \nQ 18.609375 15.53125 22.484375 10.953125 \nQ 26.375 6.390625 33.015625 6.390625 \nQ 39.65625 6.390625 43.53125 10.953125 \nQ 47.40625 15.53125 47.40625 23.390625 \nQ 47.40625 31.296875 43.53125 35.828125 \nQ 39.65625 40.375 33.015625 40.375 \nz\nM 52.59375 71.296875 \nL 52.59375 62.3125 \nQ 48.875 64.0625 45.09375 64.984375 \nQ 41.3125 65.921875 37.59375 65.921875 \nQ 27.828125 65.921875 22.671875 59.328125 \nQ 17.53125 52.734375 16.796875 39.40625 \nQ 19.671875 43.65625 24.015625 45.921875 \nQ 28.375 48.1875 33.59375 48.1875 \nQ 44.578125 48.1875 50.953125 41.515625 \nQ 57.328125 34.859375 57.328125 23.390625 \nQ 57.328125 12.15625 50.6875 5.359375 \nQ 44.046875 -1.421875 33.015625 -1.421875 \nQ 20.359375 -1.421875 13.671875 8.265625 \nQ 6.984375 17.96875 6.984375 36.375 \nQ 6.984375 53.65625 15.1875 63.9375 \nQ 23.390625 74.21875 37.203125 74.21875 \nQ 40.921875 74.21875 44.703125 73.484375 \nQ 48.484375 72.75 52.59375 71.296875 \nz\n\" id=\"DejaVuSans-54\"/>\n      </defs>\n      <g transform=\"translate(205.960795 97.316563)scale(0.1 -0.1)\">\n       <use xlink:href=\"#DejaVuSans-54\"/>\n      </g>\n     </g>\n    </g>\n    <g id=\"xtick_5\">\n     <g id=\"line2d_15\">\n      <path clip-path=\"url(#p74e0db7fc3)\" d=\"M 242.960227 82.718125 \nL 242.960227 22.318125 \n\" style=\"fill:none;stroke:#b0b0b0;stroke-linecap:square;stroke-width:0.8;\"/>\n     </g>\n     <g id=\"line2d_16\">\n      <g>\n       <use style=\"stroke:#000000;stroke-width:0.8;\" x=\"242.960227\" xlink:href=\"#m8733a3a572\" y=\"82.718125\"/>\n      </g>\n     </g>\n     <g id=\"text_9\">\n      <!-- 8 -->\n      <defs>\n       <path d=\"M 31.78125 34.625 \nQ 24.75 34.625 20.71875 30.859375 \nQ 16.703125 27.09375 16.703125 20.515625 \nQ 16.703125 13.921875 20.71875 10.15625 \nQ 24.75 6.390625 31.78125 6.390625 \nQ 38.8125 6.390625 42.859375 10.171875 \nQ 46.921875 13.96875 46.921875 20.515625 \nQ 46.921875 27.09375 42.890625 30.859375 \nQ 38.875 34.625 31.78125 34.625 \nz\nM 21.921875 38.8125 \nQ 15.578125 40.375 12.03125 44.71875 \nQ 8.5 49.078125 8.5 55.328125 \nQ 8.5 64.0625 14.71875 69.140625 \nQ 20.953125 74.21875 31.78125 74.21875 \nQ 42.671875 74.21875 48.875 69.140625 \nQ 55.078125 64.0625 55.078125 55.328125 \nQ 55.078125 49.078125 51.53125 44.71875 \nQ 48 40.375 41.703125 38.8125 \nQ 48.828125 37.15625 52.796875 32.3125 \nQ 56.78125 27.484375 56.78125 20.515625 \nQ 56.78125 9.90625 50.3125 4.234375 \nQ 43.84375 -1.421875 31.78125 -1.421875 \nQ 19.734375 -1.421875 13.25 4.234375 \nQ 6.78125 9.90625 6.78125 20.515625 \nQ 6.78125 27.484375 10.78125 32.3125 \nQ 14.796875 37.15625 21.921875 38.8125 \nz\nM 18.3125 54.390625 \nQ 18.3125 48.734375 21.84375 45.5625 \nQ 25.390625 42.390625 31.78125 42.390625 \nQ 38.140625 42.390625 41.71875 45.5625 \nQ 45.3125 48.734375 45.3125 54.390625 \nQ 45.3125 60.0625 41.71875 63.234375 \nQ 38.140625 66.40625 31.78125 66.40625 \nQ 25.390625 66.40625 21.84375 63.234375 \nQ 18.3125 60.0625 18.3125 54.390625 \nz\n\" id=\"DejaVuSans-56\"/>\n      </defs>\n      <g transform=\"translate(239.778977 97.316563)scale(0.1 -0.1)\">\n       <use xlink:href=\"#DejaVuSans-56\"/>\n      </g>\n     </g>\n    </g>\n   </g>\n   <g id=\"matplotlib.axis_4\">\n    <g id=\"ytick_4\">\n     <g id=\"line2d_17\">\n      <path clip-path=\"url(#p74e0db7fc3)\" d=\"M 154.1875 82.718125 \nL 247.1875 82.718125 \n\" style=\"fill:none;stroke:#b0b0b0;stroke-linecap:square;stroke-width:0.8;\"/>\n     </g>\n     <g id=\"line2d_18\">\n      <g>\n       <use style=\"stroke:#000000;stroke-width:0.8;\" x=\"154.1875\" xlink:href=\"#m72f4297172\" y=\"82.718125\"/>\n      </g>\n     </g>\n     <g id=\"text_10\">\n      <!-- 0 -->\n      <g transform=\"translate(140.825 86.517344)scale(0.1 -0.1)\">\n       <use xlink:href=\"#DejaVuSans-48\"/>\n      </g>\n     </g>\n    </g>\n    <g id=\"ytick_5\">\n     <g id=\"line2d_19\">\n      <path clip-path=\"url(#p74e0db7fc3)\" d=\"M 154.1875 54.520179 \nL 247.1875 54.520179 \n\" style=\"fill:none;stroke:#b0b0b0;stroke-linecap:square;stroke-width:0.8;\"/>\n     </g>\n     <g id=\"line2d_20\">\n      <g>\n       <use style=\"stroke:#000000;stroke-width:0.8;\" x=\"154.1875\" xlink:href=\"#m72f4297172\" y=\"54.520179\"/>\n      </g>\n     </g>\n     <g id=\"text_11\">\n      <!-- 100 -->\n      <g transform=\"translate(128.1 58.319398)scale(0.1 -0.1)\">\n       <use xlink:href=\"#DejaVuSans-49\"/>\n       <use x=\"63.623047\" xlink:href=\"#DejaVuSans-48\"/>\n       <use x=\"127.246094\" xlink:href=\"#DejaVuSans-48\"/>\n      </g>\n     </g>\n    </g>\n    <g id=\"ytick_6\">\n     <g id=\"line2d_21\">\n      <path clip-path=\"url(#p74e0db7fc3)\" d=\"M 154.1875 26.322233 \nL 247.1875 26.322233 \n\" style=\"fill:none;stroke:#b0b0b0;stroke-linecap:square;stroke-width:0.8;\"/>\n     </g>\n     <g id=\"line2d_22\">\n      <g>\n       <use style=\"stroke:#000000;stroke-width:0.8;\" x=\"154.1875\" xlink:href=\"#m72f4297172\" y=\"26.322233\"/>\n      </g>\n     </g>\n     <g id=\"text_12\">\n      <!-- 200 -->\n      <g transform=\"translate(128.1 30.121452)scale(0.1 -0.1)\">\n       <use xlink:href=\"#DejaVuSans-50\"/>\n       <use x=\"63.623047\" xlink:href=\"#DejaVuSans-48\"/>\n       <use x=\"127.246094\" xlink:href=\"#DejaVuSans-48\"/>\n      </g>\n     </g>\n    </g>\n   </g>\n   <g id=\"patch_48\">\n    <path d=\"M 154.1875 82.718125 \nL 154.1875 22.318125 \n\" style=\"fill:none;stroke:#000000;stroke-linecap:square;stroke-linejoin:miter;stroke-width:0.8;\"/>\n   </g>\n   <g id=\"patch_49\">\n    <path d=\"M 247.1875 82.718125 \nL 247.1875 22.318125 \n\" style=\"fill:none;stroke:#000000;stroke-linecap:square;stroke-linejoin:miter;stroke-width:0.8;\"/>\n   </g>\n   <g id=\"patch_50\">\n    <path d=\"M 154.1875 82.718125 \nL 247.1875 82.718125 \n\" style=\"fill:none;stroke:#000000;stroke-linecap:square;stroke-linejoin:miter;stroke-width:0.8;\"/>\n   </g>\n   <g id=\"patch_51\">\n    <path d=\"M 154.1875 22.318125 \nL 247.1875 22.318125 \n\" style=\"fill:none;stroke:#000000;stroke-linecap:square;stroke-linejoin:miter;stroke-width:0.8;\"/>\n   </g>\n   <g id=\"text_13\">\n    <!-- cylinders -->\n    <defs>\n     <path d=\"M 32.171875 -5.078125 \nQ 28.375 -14.84375 24.75 -17.8125 \nQ 21.140625 -20.796875 15.09375 -20.796875 \nL 7.90625 -20.796875 \nL 7.90625 -13.28125 \nL 13.1875 -13.28125 \nQ 16.890625 -13.28125 18.9375 -11.515625 \nQ 21 -9.765625 23.484375 -3.21875 \nL 25.09375 0.875 \nL 2.984375 54.6875 \nL 12.5 54.6875 \nL 29.59375 11.921875 \nL 46.6875 54.6875 \nL 56.203125 54.6875 \nz\n\" id=\"DejaVuSans-121\"/>\n     <path d=\"M 45.40625 46.390625 \nL 45.40625 75.984375 \nL 54.390625 75.984375 \nL 54.390625 0 \nL 45.40625 0 \nL 45.40625 8.203125 \nQ 42.578125 3.328125 38.25 0.953125 \nQ 33.9375 -1.421875 27.875 -1.421875 \nQ 17.96875 -1.421875 11.734375 6.484375 \nQ 5.515625 14.40625 5.515625 27.296875 \nQ 5.515625 40.1875 11.734375 48.09375 \nQ 17.96875 56 27.875 56 \nQ 33.9375 56 38.25 53.625 \nQ 42.578125 51.265625 45.40625 46.390625 \nz\nM 14.796875 27.296875 \nQ 14.796875 17.390625 18.875 11.75 \nQ 22.953125 6.109375 30.078125 6.109375 \nQ 37.203125 6.109375 41.296875 11.75 \nQ 45.40625 17.390625 45.40625 27.296875 \nQ 45.40625 37.203125 41.296875 42.84375 \nQ 37.203125 48.484375 30.078125 48.484375 \nQ 22.953125 48.484375 18.875 42.84375 \nQ 14.796875 37.203125 14.796875 27.296875 \nz\n\" id=\"DejaVuSans-100\"/>\n     <path d=\"M 44.28125 53.078125 \nL 44.28125 44.578125 \nQ 40.484375 46.53125 36.375 47.5 \nQ 32.28125 48.484375 27.875 48.484375 \nQ 21.1875 48.484375 17.84375 46.4375 \nQ 14.5 44.390625 14.5 40.28125 \nQ 14.5 37.15625 16.890625 35.375 \nQ 19.28125 33.59375 26.515625 31.984375 \nL 29.59375 31.296875 \nQ 39.15625 29.25 43.1875 25.515625 \nQ 47.21875 21.78125 47.21875 15.09375 \nQ 47.21875 7.46875 41.1875 3.015625 \nQ 35.15625 -1.421875 24.609375 -1.421875 \nQ 20.21875 -1.421875 15.453125 -0.5625 \nQ 10.6875 0.296875 5.421875 2 \nL 5.421875 11.28125 \nQ 10.40625 8.6875 15.234375 7.390625 \nQ 20.0625 6.109375 24.8125 6.109375 \nQ 31.15625 6.109375 34.5625 8.28125 \nQ 37.984375 10.453125 37.984375 14.40625 \nQ 37.984375 18.0625 35.515625 20.015625 \nQ 33.0625 21.96875 24.703125 23.78125 \nL 21.578125 24.515625 \nQ 13.234375 26.265625 9.515625 29.90625 \nQ 5.8125 33.546875 5.8125 39.890625 \nQ 5.8125 47.609375 11.28125 51.796875 \nQ 16.75 56 26.8125 56 \nQ 31.78125 56 36.171875 55.265625 \nQ 40.578125 54.546875 44.28125 53.078125 \nz\n\" id=\"DejaVuSans-115\"/>\n    </defs>\n    <g transform=\"translate(173.607813 16.318125)scale(0.12 -0.12)\">\n     <use xlink:href=\"#DejaVuSans-99\"/>\n     <use x=\"54.980469\" xlink:href=\"#DejaVuSans-121\"/>\n     <use x=\"114.160156\" xlink:href=\"#DejaVuSans-108\"/>\n     <use x=\"141.943359\" xlink:href=\"#DejaVuSans-105\"/>\n     <use x=\"169.726562\" xlink:href=\"#DejaVuSans-110\"/>\n     <use x=\"233.105469\" xlink:href=\"#DejaVuSans-100\"/>\n     <use x=\"296.582031\" xlink:href=\"#DejaVuSans-101\"/>\n     <use x=\"358.105469\" xlink:href=\"#DejaVuSans-114\"/>\n     <use x=\"399.21875\" xlink:href=\"#DejaVuSans-115\"/>\n    </g>\n   </g>\n  </g>\n  <g id=\"axes_3\">\n   <g id=\"patch_52\">\n    <path d=\"M 275.0875 82.718125 \nL 368.0875 82.718125 \nL 368.0875 22.318125 \nL 275.0875 22.318125 \nz\n\" style=\"fill:#ffffff;\"/>\n   </g>\n   <g id=\"patch_53\">\n    <path clip-path=\"url(#pc5386c9ae8)\" d=\"M 279.314773 82.718125 \nL 283.542045 82.718125 \nL 283.542045 60.306251 \nL 279.314773 60.306251 \nz\n\" style=\"fill:#1f77b4;\"/>\n   </g>\n   <g id=\"patch_54\">\n    <path clip-path=\"url(#pc5386c9ae8)\" d=\"M 283.542045 82.718125 \nL 287.769318 82.718125 \nL 287.769318 25.194315 \nL 283.542045 25.194315 \nz\n\" style=\"fill:#1f77b4;\"/>\n   </g>\n   <g id=\"patch_55\">\n    <path clip-path=\"url(#pc5386c9ae8)\" d=\"M 287.769318 82.718125 \nL 291.996591 82.718125 \nL 291.996591 39.388502 \nL 287.769318 39.388502 \nz\n\" style=\"fill:#1f77b4;\"/>\n   </g>\n   <g id=\"patch_56\">\n    <path clip-path=\"url(#pc5386c9ae8)\" d=\"M 291.996591 82.718125 \nL 296.223864 82.718125 \nL 296.223864 59.559189 \nL 291.996591 59.559189 \nz\n\" style=\"fill:#1f77b4;\"/>\n   </g>\n   <g id=\"patch_57\">\n    <path clip-path=\"url(#pc5386c9ae8)\" d=\"M 296.223864 82.718125 \nL 300.451136 82.718125 \nL 300.451136 66.282751 \nL 296.223864 66.282751 \nz\n\" style=\"fill:#1f77b4;\"/>\n   </g>\n   <g id=\"patch_58\">\n    <path clip-path=\"url(#pc5386c9ae8)\" d=\"M 300.451136 82.718125 \nL 304.678409 82.718125 \nL 304.678409 75.994563 \nL 300.451136 75.994563 \nz\n\" style=\"fill:#1f77b4;\"/>\n   </g>\n   <g id=\"patch_59\">\n    <path clip-path=\"url(#pc5386c9ae8)\" d=\"M 304.678409 82.718125 \nL 308.905682 82.718125 \nL 308.905682 73.006313 \nL 304.678409 73.006313 \nz\n\" style=\"fill:#1f77b4;\"/>\n   </g>\n   <g id=\"patch_60\">\n    <path clip-path=\"url(#pc5386c9ae8)\" d=\"M 308.905682 82.718125 \nL 313.132955 82.718125 \nL 313.132955 82.718125 \nL 308.905682 82.718125 \nz\n\" style=\"fill:#1f77b4;\"/>\n   </g>\n   <g id=\"patch_61\">\n    <path clip-path=\"url(#pc5386c9ae8)\" d=\"M 313.132955 82.718125 \nL 317.360227 82.718125 \nL 317.360227 58.812126 \nL 313.132955 58.812126 \nz\n\" style=\"fill:#1f77b4;\"/>\n   </g>\n   <g id=\"patch_62\">\n    <path clip-path=\"url(#pc5386c9ae8)\" d=\"M 317.360227 82.718125 \nL 321.5875 82.718125 \nL 321.5875 64.041563 \nL 317.360227 64.041563 \nz\n\" style=\"fill:#1f77b4;\"/>\n   </g>\n   <g id=\"patch_63\">\n    <path clip-path=\"url(#pc5386c9ae8)\" d=\"M 321.5875 82.718125 \nL 325.814773 82.718125 \nL 325.814773 80.476938 \nL 321.5875 80.476938 \nz\n\" style=\"fill:#1f77b4;\"/>\n   </g>\n   <g id=\"patch_64\">\n    <path clip-path=\"url(#pc5386c9ae8)\" d=\"M 325.814773 82.718125 \nL 330.042045 82.718125 \nL 330.042045 82.718125 \nL 325.814773 82.718125 \nz\n\" style=\"fill:#1f77b4;\"/>\n   </g>\n   <g id=\"patch_65\">\n    <path clip-path=\"url(#pc5386c9ae8)\" d=\"M 330.042045 82.718125 \nL 334.269318 82.718125 \nL 334.269318 51.341502 \nL 330.042045 51.341502 \nz\n\" style=\"fill:#1f77b4;\"/>\n   </g>\n   <g id=\"patch_66\">\n    <path clip-path=\"url(#pc5386c9ae8)\" d=\"M 334.269318 82.718125 \nL 338.496591 82.718125 \nL 338.496591 82.718125 \nL 334.269318 82.718125 \nz\n\" style=\"fill:#1f77b4;\"/>\n   </g>\n   <g id=\"patch_67\">\n    <path clip-path=\"url(#pc5386c9ae8)\" d=\"M 338.496591 82.718125 \nL 342.723864 82.718125 \nL 342.723864 62.547439 \nL 338.496591 62.547439 \nz\n\" style=\"fill:#1f77b4;\"/>\n   </g>\n   <g id=\"patch_68\">\n    <path clip-path=\"url(#pc5386c9ae8)\" d=\"M 342.723864 82.718125 \nL 346.951136 82.718125 \nL 346.951136 79.729875 \nL 342.723864 79.729875 \nz\n\" style=\"fill:#1f77b4;\"/>\n   </g>\n   <g id=\"patch_69\">\n    <path clip-path=\"url(#pc5386c9ae8)\" d=\"M 346.951136 82.718125 \nL 351.178409 82.718125 \nL 351.178409 80.476938 \nL 346.951136 80.476938 \nz\n\" style=\"fill:#1f77b4;\"/>\n   </g>\n   <g id=\"patch_70\">\n    <path clip-path=\"url(#pc5386c9ae8)\" d=\"M 351.178409 82.718125 \nL 355.405682 82.718125 \nL 355.405682 73.006313 \nL 351.178409 73.006313 \nz\n\" style=\"fill:#1f77b4;\"/>\n   </g>\n   <g id=\"patch_71\">\n    <path clip-path=\"url(#pc5386c9ae8)\" d=\"M 355.405682 82.718125 \nL 359.632955 82.718125 \nL 359.632955 80.476938 \nL 355.405682 80.476938 \nz\n\" style=\"fill:#1f77b4;\"/>\n   </g>\n   <g id=\"patch_72\">\n    <path clip-path=\"url(#pc5386c9ae8)\" d=\"M 359.632955 82.718125 \nL 363.860227 82.718125 \nL 363.860227 78.23575 \nL 359.632955 78.23575 \nz\n\" style=\"fill:#1f77b4;\"/>\n   </g>\n   <g id=\"matplotlib.axis_5\">\n    <g id=\"xtick_6\">\n     <g id=\"line2d_23\">\n      <path clip-path=\"url(#pc5386c9ae8)\" d=\"M 308.151982 82.718125 \nL 308.151982 22.318125 \n\" style=\"fill:none;stroke:#b0b0b0;stroke-linecap:square;stroke-width:0.8;\"/>\n     </g>\n     <g id=\"line2d_24\">\n      <g>\n       <use style=\"stroke:#000000;stroke-width:0.8;\" x=\"308.151982\" xlink:href=\"#m8733a3a572\" y=\"82.718125\"/>\n      </g>\n     </g>\n     <g id=\"text_14\">\n      <!-- 200 -->\n      <g transform=\"translate(298.608232 97.316563)scale(0.1 -0.1)\">\n       <use xlink:href=\"#DejaVuSans-50\"/>\n       <use x=\"63.623047\" xlink:href=\"#DejaVuSans-48\"/>\n       <use x=\"127.246094\" xlink:href=\"#DejaVuSans-48\"/>\n      </g>\n     </g>\n    </g>\n    <g id=\"xtick_7\">\n     <g id=\"line2d_25\">\n      <path clip-path=\"url(#pc5386c9ae8)\" d=\"M 351.844723 82.718125 \nL 351.844723 22.318125 \n\" style=\"fill:none;stroke:#b0b0b0;stroke-linecap:square;stroke-width:0.8;\"/>\n     </g>\n     <g id=\"line2d_26\">\n      <g>\n       <use style=\"stroke:#000000;stroke-width:0.8;\" x=\"351.844723\" xlink:href=\"#m8733a3a572\" y=\"82.718125\"/>\n      </g>\n     </g>\n     <g id=\"text_15\">\n      <!-- 400 -->\n      <g transform=\"translate(342.300973 97.316563)scale(0.1 -0.1)\">\n       <use xlink:href=\"#DejaVuSans-52\"/>\n       <use x=\"63.623047\" xlink:href=\"#DejaVuSans-48\"/>\n       <use x=\"127.246094\" xlink:href=\"#DejaVuSans-48\"/>\n      </g>\n     </g>\n    </g>\n   </g>\n   <g id=\"matplotlib.axis_6\">\n    <g id=\"ytick_7\">\n     <g id=\"line2d_27\">\n      <path clip-path=\"url(#pc5386c9ae8)\" d=\"M 275.0875 82.718125 \nL 368.0875 82.718125 \n\" style=\"fill:none;stroke:#b0b0b0;stroke-linecap:square;stroke-width:0.8;\"/>\n     </g>\n     <g id=\"line2d_28\">\n      <g>\n       <use style=\"stroke:#000000;stroke-width:0.8;\" x=\"275.0875\" xlink:href=\"#m72f4297172\" y=\"82.718125\"/>\n      </g>\n     </g>\n     <g id=\"text_16\">\n      <!-- 0 -->\n      <g transform=\"translate(261.725 86.517344)scale(0.1 -0.1)\">\n       <use xlink:href=\"#DejaVuSans-48\"/>\n      </g>\n     </g>\n    </g>\n    <g id=\"ytick_8\">\n     <g id=\"line2d_29\">\n      <path clip-path=\"url(#pc5386c9ae8)\" d=\"M 275.0875 45.365002 \nL 368.0875 45.365002 \n\" style=\"fill:none;stroke:#b0b0b0;stroke-linecap:square;stroke-width:0.8;\"/>\n     </g>\n     <g id=\"line2d_30\">\n      <g>\n       <use style=\"stroke:#000000;stroke-width:0.8;\" x=\"275.0875\" xlink:href=\"#m72f4297172\" y=\"45.365002\"/>\n      </g>\n     </g>\n     <g id=\"text_17\">\n      <!-- 50 -->\n      <defs>\n       <path d=\"M 10.796875 72.90625 \nL 49.515625 72.90625 \nL 49.515625 64.59375 \nL 19.828125 64.59375 \nL 19.828125 46.734375 \nQ 21.96875 47.46875 24.109375 47.828125 \nQ 26.265625 48.1875 28.421875 48.1875 \nQ 40.625 48.1875 47.75 41.5 \nQ 54.890625 34.8125 54.890625 23.390625 \nQ 54.890625 11.625 47.5625 5.09375 \nQ 40.234375 -1.421875 26.90625 -1.421875 \nQ 22.3125 -1.421875 17.546875 -0.640625 \nQ 12.796875 0.140625 7.71875 1.703125 \nL 7.71875 11.625 \nQ 12.109375 9.234375 16.796875 8.0625 \nQ 21.484375 6.890625 26.703125 6.890625 \nQ 35.15625 6.890625 40.078125 11.328125 \nQ 45.015625 15.765625 45.015625 23.390625 \nQ 45.015625 31 40.078125 35.4375 \nQ 35.15625 39.890625 26.703125 39.890625 \nQ 22.75 39.890625 18.8125 39.015625 \nQ 14.890625 38.140625 10.796875 36.28125 \nz\n\" id=\"DejaVuSans-53\"/>\n      </defs>\n      <g transform=\"translate(255.3625 49.164221)scale(0.1 -0.1)\">\n       <use xlink:href=\"#DejaVuSans-53\"/>\n       <use x=\"63.623047\" xlink:href=\"#DejaVuSans-48\"/>\n      </g>\n     </g>\n    </g>\n   </g>\n   <g id=\"patch_73\">\n    <path d=\"M 275.0875 82.718125 \nL 275.0875 22.318125 \n\" style=\"fill:none;stroke:#000000;stroke-linecap:square;stroke-linejoin:miter;stroke-width:0.8;\"/>\n   </g>\n   <g id=\"patch_74\">\n    <path d=\"M 368.0875 82.718125 \nL 368.0875 22.318125 \n\" style=\"fill:none;stroke:#000000;stroke-linecap:square;stroke-linejoin:miter;stroke-width:0.8;\"/>\n   </g>\n   <g id=\"patch_75\">\n    <path d=\"M 275.0875 82.718125 \nL 368.0875 82.718125 \n\" style=\"fill:none;stroke:#000000;stroke-linecap:square;stroke-linejoin:miter;stroke-width:0.8;\"/>\n   </g>\n   <g id=\"patch_76\">\n    <path d=\"M 275.0875 22.318125 \nL 368.0875 22.318125 \n\" style=\"fill:none;stroke:#000000;stroke-linecap:square;stroke-linejoin:miter;stroke-width:0.8;\"/>\n   </g>\n   <g id=\"text_18\">\n    <!-- displacement -->\n    <defs>\n     <path d=\"M 18.109375 8.203125 \nL 18.109375 -20.796875 \nL 9.078125 -20.796875 \nL 9.078125 54.6875 \nL 18.109375 54.6875 \nL 18.109375 46.390625 \nQ 20.953125 51.265625 25.265625 53.625 \nQ 29.59375 56 35.59375 56 \nQ 45.5625 56 51.78125 48.09375 \nQ 58.015625 40.1875 58.015625 27.296875 \nQ 58.015625 14.40625 51.78125 6.484375 \nQ 45.5625 -1.421875 35.59375 -1.421875 \nQ 29.59375 -1.421875 25.265625 0.953125 \nQ 20.953125 3.328125 18.109375 8.203125 \nz\nM 48.6875 27.296875 \nQ 48.6875 37.203125 44.609375 42.84375 \nQ 40.53125 48.484375 33.40625 48.484375 \nQ 26.265625 48.484375 22.1875 42.84375 \nQ 18.109375 37.203125 18.109375 27.296875 \nQ 18.109375 17.390625 22.1875 11.75 \nQ 26.265625 6.109375 33.40625 6.109375 \nQ 40.53125 6.109375 44.609375 11.75 \nQ 48.6875 17.390625 48.6875 27.296875 \nz\n\" id=\"DejaVuSans-112\"/>\n     <path d=\"M 52 44.1875 \nQ 55.375 50.25 60.0625 53.125 \nQ 64.75 56 71.09375 56 \nQ 79.640625 56 84.28125 50.015625 \nQ 88.921875 44.046875 88.921875 33.015625 \nL 88.921875 0 \nL 79.890625 0 \nL 79.890625 32.71875 \nQ 79.890625 40.578125 77.09375 44.375 \nQ 74.3125 48.1875 68.609375 48.1875 \nQ 61.625 48.1875 57.5625 43.546875 \nQ 53.515625 38.921875 53.515625 30.90625 \nL 53.515625 0 \nL 44.484375 0 \nL 44.484375 32.71875 \nQ 44.484375 40.625 41.703125 44.40625 \nQ 38.921875 48.1875 33.109375 48.1875 \nQ 26.21875 48.1875 22.15625 43.53125 \nQ 18.109375 38.875 18.109375 30.90625 \nL 18.109375 0 \nL 9.078125 0 \nL 9.078125 54.6875 \nL 18.109375 54.6875 \nL 18.109375 46.1875 \nQ 21.1875 51.21875 25.484375 53.609375 \nQ 29.78125 56 35.6875 56 \nQ 41.65625 56 45.828125 52.96875 \nQ 50 49.953125 52 44.1875 \nz\n\" id=\"DejaVuSans-109\"/>\n    </defs>\n    <g transform=\"translate(281.15125 16.318125)scale(0.12 -0.12)\">\n     <use xlink:href=\"#DejaVuSans-100\"/>\n     <use x=\"63.476562\" xlink:href=\"#DejaVuSans-105\"/>\n     <use x=\"91.259766\" xlink:href=\"#DejaVuSans-115\"/>\n     <use x=\"143.359375\" xlink:href=\"#DejaVuSans-112\"/>\n     <use x=\"206.835938\" xlink:href=\"#DejaVuSans-108\"/>\n     <use x=\"234.619141\" xlink:href=\"#DejaVuSans-97\"/>\n     <use x=\"295.898438\" xlink:href=\"#DejaVuSans-99\"/>\n     <use x=\"350.878906\" xlink:href=\"#DejaVuSans-101\"/>\n     <use x=\"412.402344\" xlink:href=\"#DejaVuSans-109\"/>\n     <use x=\"509.814453\" xlink:href=\"#DejaVuSans-101\"/>\n     <use x=\"571.337891\" xlink:href=\"#DejaVuSans-110\"/>\n     <use x=\"634.716797\" xlink:href=\"#DejaVuSans-116\"/>\n    </g>\n   </g>\n  </g>\n  <g id=\"axes_4\">\n   <g id=\"patch_77\">\n    <path d=\"M 33.2875 161.238125 \nL 126.2875 161.238125 \nL 126.2875 100.838125 \nL 33.2875 100.838125 \nz\n\" style=\"fill:#ffffff;\"/>\n   </g>\n   <g id=\"patch_78\">\n    <path clip-path=\"url(#pff083bed9d)\" d=\"M 37.514773 161.238125 \nL 41.742045 161.238125 \nL 41.742045 150.076789 \nL 37.514773 150.076789 \nz\n\" style=\"fill:#1f77b4;\"/>\n   </g>\n   <g id=\"patch_79\">\n    <path clip-path=\"url(#pff083bed9d)\" d=\"M 41.742045 161.238125 \nL 45.969318 161.238125 \nL 45.969318 149.218225 \nL 41.742045 149.218225 \nz\n\" style=\"fill:#1f77b4;\"/>\n   </g>\n   <g id=\"patch_80\">\n    <path clip-path=\"url(#pff083bed9d)\" d=\"M 45.969318 161.238125 \nL 50.196591 161.238125 \nL 50.196591 114.017087 \nL 45.969318 114.017087 \nz\n\" style=\"fill:#1f77b4;\"/>\n   </g>\n   <g id=\"patch_81\">\n    <path clip-path=\"url(#pff083bed9d)\" d=\"M 50.196591 161.238125 \nL 54.423864 161.238125 \nL 54.423864 126.895552 \nL 50.196591 126.895552 \nz\n\" style=\"fill:#1f77b4;\"/>\n   </g>\n   <g id=\"patch_82\">\n    <path clip-path=\"url(#pff083bed9d)\" d=\"M 54.423864 161.238125 \nL 58.651136 161.238125 \nL 58.651136 103.714315 \nL 54.423864 103.714315 \nz\n\" style=\"fill:#1f77b4;\"/>\n   </g>\n   <g id=\"patch_83\">\n    <path clip-path=\"url(#pff083bed9d)\" d=\"M 58.651136 161.238125 \nL 62.878409 161.238125 \nL 62.878409 115.734216 \nL 58.651136 115.734216 \nz\n\" style=\"fill:#1f77b4;\"/>\n   </g>\n   <g id=\"patch_84\">\n    <path clip-path=\"url(#pff083bed9d)\" d=\"M 62.878409 161.238125 \nL 67.105682 161.238125 \nL 67.105682 126.895552 \nL 62.878409 126.895552 \nz\n\" style=\"fill:#1f77b4;\"/>\n   </g>\n   <g id=\"patch_85\">\n    <path clip-path=\"url(#pff083bed9d)\" d=\"M 67.105682 161.238125 \nL 71.332955 161.238125 \nL 71.332955 152.652482 \nL 67.105682 152.652482 \nz\n\" style=\"fill:#1f77b4;\"/>\n   </g>\n   <g id=\"patch_86\">\n    <path clip-path=\"url(#pff083bed9d)\" d=\"M 71.332955 161.238125 \nL 75.560227 161.238125 \nL 75.560227 154.36961 \nL 71.332955 154.36961 \nz\n\" style=\"fill:#1f77b4;\"/>\n   </g>\n   <g id=\"patch_87\">\n    <path clip-path=\"url(#pff083bed9d)\" d=\"M 75.560227 161.238125 \nL 79.7875 161.238125 \nL 79.7875 151.793917 \nL 75.560227 151.793917 \nz\n\" style=\"fill:#1f77b4;\"/>\n   </g>\n   <g id=\"patch_88\">\n    <path clip-path=\"url(#pff083bed9d)\" d=\"M 79.7875 161.238125 \nL 84.014773 161.238125 \nL 84.014773 145.783967 \nL 79.7875 145.783967 \nz\n\" style=\"fill:#1f77b4;\"/>\n   </g>\n   <g id=\"patch_89\">\n    <path clip-path=\"url(#pff083bed9d)\" d=\"M 84.014773 161.238125 \nL 88.242045 161.238125 \nL 88.242045 136.33976 \nL 84.014773 136.33976 \nz\n\" style=\"fill:#1f77b4;\"/>\n   </g>\n   <g id=\"patch_90\">\n    <path clip-path=\"url(#pff083bed9d)\" d=\"M 88.242045 161.238125 \nL 92.469318 161.238125 \nL 92.469318 155.228175 \nL 88.242045 155.228175 \nz\n\" style=\"fill:#1f77b4;\"/>\n   </g>\n   <g id=\"patch_91\">\n    <path clip-path=\"url(#pff083bed9d)\" d=\"M 92.469318 161.238125 \nL 96.696591 161.238125 \nL 96.696591 156.086739 \nL 92.469318 156.086739 \nz\n\" style=\"fill:#1f77b4;\"/>\n   </g>\n   <g id=\"patch_92\">\n    <path clip-path=\"url(#pff083bed9d)\" d=\"M 96.696591 161.238125 \nL 100.923864 161.238125 \nL 100.923864 152.652482 \nL 96.696591 152.652482 \nz\n\" style=\"fill:#1f77b4;\"/>\n   </g>\n   <g id=\"patch_93\">\n    <path clip-path=\"url(#pff083bed9d)\" d=\"M 100.923864 161.238125 \nL 105.151136 161.238125 \nL 105.151136 157.803868 \nL 100.923864 157.803868 \nz\n\" style=\"fill:#1f77b4;\"/>\n   </g>\n   <g id=\"patch_94\">\n    <path clip-path=\"url(#pff083bed9d)\" d=\"M 105.151136 161.238125 \nL 109.378409 161.238125 \nL 109.378409 158.662432 \nL 105.151136 158.662432 \nz\n\" style=\"fill:#1f77b4;\"/>\n   </g>\n   <g id=\"patch_95\">\n    <path clip-path=\"url(#pff083bed9d)\" d=\"M 109.378409 161.238125 \nL 113.605682 161.238125 \nL 113.605682 159.520996 \nL 109.378409 159.520996 \nz\n\" style=\"fill:#1f77b4;\"/>\n   </g>\n   <g id=\"patch_96\">\n    <path clip-path=\"url(#pff083bed9d)\" d=\"M 113.605682 161.238125 \nL 117.832955 161.238125 \nL 117.832955 157.803868 \nL 113.605682 157.803868 \nz\n\" style=\"fill:#1f77b4;\"/>\n   </g>\n   <g id=\"patch_97\">\n    <path clip-path=\"url(#pff083bed9d)\" d=\"M 117.832955 161.238125 \nL 122.060227 161.238125 \nL 122.060227 157.803868 \nL 117.832955 157.803868 \nz\n\" style=\"fill:#1f77b4;\"/>\n   </g>\n   <g id=\"matplotlib.axis_7\">\n    <g id=\"xtick_8\">\n     <g id=\"line2d_31\">\n      <path clip-path=\"url(#pff083bed9d)\" d=\"M 62.327026 161.238125 \nL 62.327026 100.838125 \n\" style=\"fill:none;stroke:#b0b0b0;stroke-linecap:square;stroke-width:0.8;\"/>\n     </g>\n     <g id=\"line2d_32\">\n      <g>\n       <use style=\"stroke:#000000;stroke-width:0.8;\" x=\"62.327026\" xlink:href=\"#m8733a3a572\" y=\"161.238125\"/>\n      </g>\n     </g>\n     <g id=\"text_19\">\n      <!-- 100 -->\n      <g transform=\"translate(52.783276 175.836563)scale(0.1 -0.1)\">\n       <use xlink:href=\"#DejaVuSans-49\"/>\n       <use x=\"63.623047\" xlink:href=\"#DejaVuSans-48\"/>\n       <use x=\"127.246094\" xlink:href=\"#DejaVuSans-48\"/>\n      </g>\n     </g>\n    </g>\n    <g id=\"xtick_9\">\n     <g id=\"line2d_33\">\n      <path clip-path=\"url(#pff083bed9d)\" d=\"M 108.275642 161.238125 \nL 108.275642 100.838125 \n\" style=\"fill:none;stroke:#b0b0b0;stroke-linecap:square;stroke-width:0.8;\"/>\n     </g>\n     <g id=\"line2d_34\">\n      <g>\n       <use style=\"stroke:#000000;stroke-width:0.8;\" x=\"108.275642\" xlink:href=\"#m8733a3a572\" y=\"161.238125\"/>\n      </g>\n     </g>\n     <g id=\"text_20\">\n      <!-- 200 -->\n      <g transform=\"translate(98.731892 175.836563)scale(0.1 -0.1)\">\n       <use xlink:href=\"#DejaVuSans-50\"/>\n       <use x=\"63.623047\" xlink:href=\"#DejaVuSans-48\"/>\n       <use x=\"127.246094\" xlink:href=\"#DejaVuSans-48\"/>\n      </g>\n     </g>\n    </g>\n   </g>\n   <g id=\"matplotlib.axis_8\">\n    <g id=\"ytick_9\">\n     <g id=\"line2d_35\">\n      <path clip-path=\"url(#pff083bed9d)\" d=\"M 33.2875 161.238125 \nL 126.2875 161.238125 \n\" style=\"fill:none;stroke:#b0b0b0;stroke-linecap:square;stroke-width:0.8;\"/>\n     </g>\n     <g id=\"line2d_36\">\n      <g>\n       <use style=\"stroke:#000000;stroke-width:0.8;\" x=\"33.2875\" xlink:href=\"#m72f4297172\" y=\"161.238125\"/>\n      </g>\n     </g>\n     <g id=\"text_21\">\n      <!-- 0 -->\n      <g transform=\"translate(19.925 165.037344)scale(0.1 -0.1)\">\n       <use xlink:href=\"#DejaVuSans-48\"/>\n      </g>\n     </g>\n    </g>\n    <g id=\"ytick_10\">\n     <g id=\"line2d_37\">\n      <path clip-path=\"url(#pff083bed9d)\" d=\"M 33.2875 139.774017 \nL 126.2875 139.774017 \n\" style=\"fill:none;stroke:#b0b0b0;stroke-linecap:square;stroke-width:0.8;\"/>\n     </g>\n     <g id=\"line2d_38\">\n      <g>\n       <use style=\"stroke:#000000;stroke-width:0.8;\" x=\"33.2875\" xlink:href=\"#m72f4297172\" y=\"139.774017\"/>\n      </g>\n     </g>\n     <g id=\"text_22\">\n      <!-- 25 -->\n      <g transform=\"translate(13.5625 143.573236)scale(0.1 -0.1)\">\n       <use xlink:href=\"#DejaVuSans-50\"/>\n       <use x=\"63.623047\" xlink:href=\"#DejaVuSans-53\"/>\n      </g>\n     </g>\n    </g>\n    <g id=\"ytick_11\">\n     <g id=\"line2d_39\">\n      <path clip-path=\"url(#pff083bed9d)\" d=\"M 33.2875 118.309909 \nL 126.2875 118.309909 \n\" style=\"fill:none;stroke:#b0b0b0;stroke-linecap:square;stroke-width:0.8;\"/>\n     </g>\n     <g id=\"line2d_40\">\n      <g>\n       <use style=\"stroke:#000000;stroke-width:0.8;\" x=\"33.2875\" xlink:href=\"#m72f4297172\" y=\"118.309909\"/>\n      </g>\n     </g>\n     <g id=\"text_23\">\n      <!-- 50 -->\n      <g transform=\"translate(13.5625 122.109128)scale(0.1 -0.1)\">\n       <use xlink:href=\"#DejaVuSans-53\"/>\n       <use x=\"63.623047\" xlink:href=\"#DejaVuSans-48\"/>\n      </g>\n     </g>\n    </g>\n   </g>\n   <g id=\"patch_98\">\n    <path d=\"M 33.2875 161.238125 \nL 33.2875 100.838125 \n\" style=\"fill:none;stroke:#000000;stroke-linecap:square;stroke-linejoin:miter;stroke-width:0.8;\"/>\n   </g>\n   <g id=\"patch_99\">\n    <path d=\"M 126.2875 161.238125 \nL 126.2875 100.838125 \n\" style=\"fill:none;stroke:#000000;stroke-linecap:square;stroke-linejoin:miter;stroke-width:0.8;\"/>\n   </g>\n   <g id=\"patch_100\">\n    <path d=\"M 33.2875 161.238125 \nL 126.2875 161.238125 \n\" style=\"fill:none;stroke:#000000;stroke-linecap:square;stroke-linejoin:miter;stroke-width:0.8;\"/>\n   </g>\n   <g id=\"patch_101\">\n    <path d=\"M 33.2875 100.838125 \nL 126.2875 100.838125 \n\" style=\"fill:none;stroke:#000000;stroke-linecap:square;stroke-linejoin:miter;stroke-width:0.8;\"/>\n   </g>\n   <g id=\"text_24\">\n    <!-- horsepower -->\n    <defs>\n     <path d=\"M 54.890625 33.015625 \nL 54.890625 0 \nL 45.90625 0 \nL 45.90625 32.71875 \nQ 45.90625 40.484375 42.875 44.328125 \nQ 39.84375 48.1875 33.796875 48.1875 \nQ 26.515625 48.1875 22.3125 43.546875 \nQ 18.109375 38.921875 18.109375 30.90625 \nL 18.109375 0 \nL 9.078125 0 \nL 9.078125 75.984375 \nL 18.109375 75.984375 \nL 18.109375 46.1875 \nQ 21.34375 51.125 25.703125 53.5625 \nQ 30.078125 56 35.796875 56 \nQ 45.21875 56 50.046875 50.171875 \nQ 54.890625 44.34375 54.890625 33.015625 \nz\n\" id=\"DejaVuSans-104\"/>\n     <path d=\"M 4.203125 54.6875 \nL 13.1875 54.6875 \nL 24.421875 12.015625 \nL 35.59375 54.6875 \nL 46.1875 54.6875 \nL 57.421875 12.015625 \nL 68.609375 54.6875 \nL 77.59375 54.6875 \nL 63.28125 0 \nL 52.6875 0 \nL 40.921875 44.828125 \nL 29.109375 0 \nL 18.5 0 \nz\n\" id=\"DejaVuSans-119\"/>\n    </defs>\n    <g transform=\"translate(44.484063 94.838125)scale(0.12 -0.12)\">\n     <use xlink:href=\"#DejaVuSans-104\"/>\n     <use x=\"63.378906\" xlink:href=\"#DejaVuSans-111\"/>\n     <use x=\"124.560547\" xlink:href=\"#DejaVuSans-114\"/>\n     <use x=\"165.673828\" xlink:href=\"#DejaVuSans-115\"/>\n     <use x=\"217.773438\" xlink:href=\"#DejaVuSans-101\"/>\n     <use x=\"279.296875\" xlink:href=\"#DejaVuSans-112\"/>\n     <use x=\"342.773438\" xlink:href=\"#DejaVuSans-111\"/>\n     <use x=\"403.955078\" xlink:href=\"#DejaVuSans-119\"/>\n     <use x=\"485.742188\" xlink:href=\"#DejaVuSans-101\"/>\n     <use x=\"547.265625\" xlink:href=\"#DejaVuSans-114\"/>\n    </g>\n   </g>\n  </g>\n  <g id=\"axes_5\">\n   <g id=\"patch_102\">\n    <path d=\"M 154.1875 161.238125 \nL 247.1875 161.238125 \nL 247.1875 100.838125 \nL 154.1875 100.838125 \nz\n\" style=\"fill:#ffffff;\"/>\n   </g>\n   <g id=\"patch_103\">\n    <path clip-path=\"url(#pe8eaa17954)\" d=\"M 158.414773 161.238125 \nL 162.642045 161.238125 \nL 162.642045 119.533363 \nL 158.414773 119.533363 \nz\n\" style=\"fill:#1f77b4;\"/>\n   </g>\n   <g id=\"patch_104\">\n    <path clip-path=\"url(#pe8eaa17954)\" d=\"M 162.642045 161.238125 \nL 166.869318 161.238125 \nL 166.869318 120.971458 \nL 162.642045 120.971458 \nz\n\" style=\"fill:#1f77b4;\"/>\n   </g>\n   <g id=\"patch_105\">\n    <path clip-path=\"url(#pe8eaa17954)\" d=\"M 166.869318 161.238125 \nL 171.096591 161.238125 \nL 171.096591 161.238125 \nL 166.869318 161.238125 \nz\n\" style=\"fill:#1f77b4;\"/>\n   </g>\n   <g id=\"patch_106\">\n    <path clip-path=\"url(#pe8eaa17954)\" d=\"M 171.096591 161.238125 \nL 175.323864 161.238125 \nL 175.323864 120.971458 \nL 171.096591 120.971458 \nz\n\" style=\"fill:#1f77b4;\"/>\n   </g>\n   <g id=\"patch_107\">\n    <path clip-path=\"url(#pe8eaa17954)\" d=\"M 175.323864 161.238125 \nL 179.551136 161.238125 \nL 179.551136 161.238125 \nL 175.323864 161.238125 \nz\n\" style=\"fill:#1f77b4;\"/>\n   </g>\n   <g id=\"patch_108\">\n    <path clip-path=\"url(#pe8eaa17954)\" d=\"M 179.551136 161.238125 \nL 183.778409 161.238125 \nL 183.778409 103.714315 \nL 179.551136 103.714315 \nz\n\" style=\"fill:#1f77b4;\"/>\n   </g>\n   <g id=\"patch_109\">\n    <path clip-path=\"url(#pe8eaa17954)\" d=\"M 183.778409 161.238125 \nL 188.005682 161.238125 \nL 188.005682 122.409554 \nL 183.778409 122.409554 \nz\n\" style=\"fill:#1f77b4;\"/>\n   </g>\n   <g id=\"patch_110\">\n    <path clip-path=\"url(#pe8eaa17954)\" d=\"M 188.005682 161.238125 \nL 192.232955 161.238125 \nL 192.232955 161.238125 \nL 188.005682 161.238125 \nz\n\" style=\"fill:#1f77b4;\"/>\n   </g>\n   <g id=\"patch_111\">\n    <path clip-path=\"url(#pe8eaa17954)\" d=\"M 192.232955 161.238125 \nL 196.460227 161.238125 \nL 196.460227 118.095268 \nL 192.232955 118.095268 \nz\n\" style=\"fill:#1f77b4;\"/>\n   </g>\n   <g id=\"patch_112\">\n    <path clip-path=\"url(#pe8eaa17954)\" d=\"M 196.460227 161.238125 \nL 200.6875 161.238125 \nL 200.6875 161.238125 \nL 196.460227 161.238125 \nz\n\" style=\"fill:#1f77b4;\"/>\n   </g>\n   <g id=\"patch_113\">\n    <path clip-path=\"url(#pe8eaa17954)\" d=\"M 200.6875 161.238125 \nL 204.914773 161.238125 \nL 204.914773 112.342887 \nL 200.6875 112.342887 \nz\n\" style=\"fill:#1f77b4;\"/>\n   </g>\n   <g id=\"patch_114\">\n    <path clip-path=\"url(#pe8eaa17954)\" d=\"M 204.914773 161.238125 \nL 209.142045 161.238125 \nL 209.142045 120.971458 \nL 204.914773 120.971458 \nz\n\" style=\"fill:#1f77b4;\"/>\n   </g>\n   <g id=\"patch_115\">\n    <path clip-path=\"url(#pe8eaa17954)\" d=\"M 209.142045 161.238125 \nL 213.369318 161.238125 \nL 213.369318 161.238125 \nL 209.142045 161.238125 \nz\n\" style=\"fill:#1f77b4;\"/>\n   </g>\n   <g id=\"patch_116\">\n    <path clip-path=\"url(#pe8eaa17954)\" d=\"M 213.369318 161.238125 \nL 217.596591 161.238125 \nL 217.596591 109.466696 \nL 213.369318 109.466696 \nz\n\" style=\"fill:#1f77b4;\"/>\n   </g>\n   <g id=\"patch_117\">\n    <path clip-path=\"url(#pe8eaa17954)\" d=\"M 217.596591 161.238125 \nL 221.823864 161.238125 \nL 221.823864 161.238125 \nL 217.596591 161.238125 \nz\n\" style=\"fill:#1f77b4;\"/>\n   </g>\n   <g id=\"patch_118\">\n    <path clip-path=\"url(#pe8eaa17954)\" d=\"M 221.823864 161.238125 \nL 226.051136 161.238125 \nL 226.051136 119.533363 \nL 221.823864 119.533363 \nz\n\" style=\"fill:#1f77b4;\"/>\n   </g>\n   <g id=\"patch_119\">\n    <path clip-path=\"url(#pe8eaa17954)\" d=\"M 226.051136 161.238125 \nL 230.278409 161.238125 \nL 230.278409 119.533363 \nL 226.051136 119.533363 \nz\n\" style=\"fill:#1f77b4;\"/>\n   </g>\n   <g id=\"patch_120\">\n    <path clip-path=\"url(#pe8eaa17954)\" d=\"M 230.278409 161.238125 \nL 234.505682 161.238125 \nL 234.505682 161.238125 \nL 230.278409 161.238125 \nz\n\" style=\"fill:#1f77b4;\"/>\n   </g>\n   <g id=\"patch_121\">\n    <path clip-path=\"url(#pe8eaa17954)\" d=\"M 234.505682 161.238125 \nL 238.732955 161.238125 \nL 238.732955 119.533363 \nL 234.505682 119.533363 \nz\n\" style=\"fill:#1f77b4;\"/>\n   </g>\n   <g id=\"patch_122\">\n    <path clip-path=\"url(#pe8eaa17954)\" d=\"M 238.732955 161.238125 \nL 242.960227 161.238125 \nL 242.960227 116.657173 \nL 238.732955 116.657173 \nz\n\" style=\"fill:#1f77b4;\"/>\n   </g>\n   <g id=\"matplotlib.axis_9\">\n    <g id=\"xtick_10\">\n     <g id=\"line2d_41\">\n      <path clip-path=\"url(#pe8eaa17954)\" d=\"M 158.414773 161.238125 \nL 158.414773 100.838125 \n\" style=\"fill:none;stroke:#b0b0b0;stroke-linecap:square;stroke-width:0.8;\"/>\n     </g>\n     <g id=\"line2d_42\">\n      <g>\n       <use style=\"stroke:#000000;stroke-width:0.8;\" x=\"158.414773\" xlink:href=\"#m8733a3a572\" y=\"161.238125\"/>\n      </g>\n     </g>\n     <g id=\"text_25\">\n      <!-- 70 -->\n      <defs>\n       <path d=\"M 8.203125 72.90625 \nL 55.078125 72.90625 \nL 55.078125 68.703125 \nL 28.609375 0 \nL 18.3125 0 \nL 43.21875 64.59375 \nL 8.203125 64.59375 \nz\n\" id=\"DejaVuSans-55\"/>\n      </defs>\n      <g transform=\"translate(152.052273 175.836563)scale(0.1 -0.1)\">\n       <use xlink:href=\"#DejaVuSans-55\"/>\n       <use x=\"63.623047\" xlink:href=\"#DejaVuSans-48\"/>\n      </g>\n     </g>\n    </g>\n    <g id=\"xtick_11\">\n     <g id=\"line2d_43\">\n      <path clip-path=\"url(#pe8eaa17954)\" d=\"M 193.642045 161.238125 \nL 193.642045 100.838125 \n\" style=\"fill:none;stroke:#b0b0b0;stroke-linecap:square;stroke-width:0.8;\"/>\n     </g>\n     <g id=\"line2d_44\">\n      <g>\n       <use style=\"stroke:#000000;stroke-width:0.8;\" x=\"193.642045\" xlink:href=\"#m8733a3a572\" y=\"161.238125\"/>\n      </g>\n     </g>\n     <g id=\"text_26\">\n      <!-- 75 -->\n      <g transform=\"translate(187.279545 175.836563)scale(0.1 -0.1)\">\n       <use xlink:href=\"#DejaVuSans-55\"/>\n       <use x=\"63.623047\" xlink:href=\"#DejaVuSans-53\"/>\n      </g>\n     </g>\n    </g>\n    <g id=\"xtick_12\">\n     <g id=\"line2d_45\">\n      <path clip-path=\"url(#pe8eaa17954)\" d=\"M 228.869318 161.238125 \nL 228.869318 100.838125 \n\" style=\"fill:none;stroke:#b0b0b0;stroke-linecap:square;stroke-width:0.8;\"/>\n     </g>\n     <g id=\"line2d_46\">\n      <g>\n       <use style=\"stroke:#000000;stroke-width:0.8;\" x=\"228.869318\" xlink:href=\"#m8733a3a572\" y=\"161.238125\"/>\n      </g>\n     </g>\n     <g id=\"text_27\">\n      <!-- 80 -->\n      <g transform=\"translate(222.506818 175.836563)scale(0.1 -0.1)\">\n       <use xlink:href=\"#DejaVuSans-56\"/>\n       <use x=\"63.623047\" xlink:href=\"#DejaVuSans-48\"/>\n      </g>\n     </g>\n    </g>\n   </g>\n   <g id=\"matplotlib.axis_10\">\n    <g id=\"ytick_12\">\n     <g id=\"line2d_47\">\n      <path clip-path=\"url(#pe8eaa17954)\" d=\"M 154.1875 161.238125 \nL 247.1875 161.238125 \n\" style=\"fill:none;stroke:#b0b0b0;stroke-linecap:square;stroke-width:0.8;\"/>\n     </g>\n     <g id=\"line2d_48\">\n      <g>\n       <use style=\"stroke:#000000;stroke-width:0.8;\" x=\"154.1875\" xlink:href=\"#m72f4297172\" y=\"161.238125\"/>\n      </g>\n     </g>\n     <g id=\"text_28\">\n      <!-- 0 -->\n      <g transform=\"translate(140.825 165.037344)scale(0.1 -0.1)\">\n       <use xlink:href=\"#DejaVuSans-48\"/>\n      </g>\n     </g>\n    </g>\n    <g id=\"ytick_13\">\n     <g id=\"line2d_49\">\n      <path clip-path=\"url(#pe8eaa17954)\" d=\"M 154.1875 132.47622 \nL 247.1875 132.47622 \n\" style=\"fill:none;stroke:#b0b0b0;stroke-linecap:square;stroke-width:0.8;\"/>\n     </g>\n     <g id=\"line2d_50\">\n      <g>\n       <use style=\"stroke:#000000;stroke-width:0.8;\" x=\"154.1875\" xlink:href=\"#m72f4297172\" y=\"132.47622\"/>\n      </g>\n     </g>\n     <g id=\"text_29\">\n      <!-- 20 -->\n      <g transform=\"translate(134.4625 136.275439)scale(0.1 -0.1)\">\n       <use xlink:href=\"#DejaVuSans-50\"/>\n       <use x=\"63.623047\" xlink:href=\"#DejaVuSans-48\"/>\n      </g>\n     </g>\n    </g>\n    <g id=\"ytick_14\">\n     <g id=\"line2d_51\">\n      <path clip-path=\"url(#pe8eaa17954)\" d=\"M 154.1875 103.714315 \nL 247.1875 103.714315 \n\" style=\"fill:none;stroke:#b0b0b0;stroke-linecap:square;stroke-width:0.8;\"/>\n     </g>\n     <g id=\"line2d_52\">\n      <g>\n       <use style=\"stroke:#000000;stroke-width:0.8;\" x=\"154.1875\" xlink:href=\"#m72f4297172\" y=\"103.714315\"/>\n      </g>\n     </g>\n     <g id=\"text_30\">\n      <!-- 40 -->\n      <g transform=\"translate(134.4625 107.513534)scale(0.1 -0.1)\">\n       <use xlink:href=\"#DejaVuSans-52\"/>\n       <use x=\"63.623047\" xlink:href=\"#DejaVuSans-48\"/>\n      </g>\n     </g>\n    </g>\n   </g>\n   <g id=\"patch_123\">\n    <path d=\"M 154.1875 161.238125 \nL 154.1875 100.838125 \n\" style=\"fill:none;stroke:#000000;stroke-linecap:square;stroke-linejoin:miter;stroke-width:0.8;\"/>\n   </g>\n   <g id=\"patch_124\">\n    <path d=\"M 247.1875 161.238125 \nL 247.1875 100.838125 \n\" style=\"fill:none;stroke:#000000;stroke-linecap:square;stroke-linejoin:miter;stroke-width:0.8;\"/>\n   </g>\n   <g id=\"patch_125\">\n    <path d=\"M 154.1875 161.238125 \nL 247.1875 161.238125 \n\" style=\"fill:none;stroke:#000000;stroke-linecap:square;stroke-linejoin:miter;stroke-width:0.8;\"/>\n   </g>\n   <g id=\"patch_126\">\n    <path d=\"M 154.1875 100.838125 \nL 247.1875 100.838125 \n\" style=\"fill:none;stroke:#000000;stroke-linecap:square;stroke-linejoin:miter;stroke-width:0.8;\"/>\n   </g>\n   <g id=\"text_31\">\n    <!-- model year -->\n    <defs>\n     <path id=\"DejaVuSans-32\"/>\n    </defs>\n    <g transform=\"translate(166.710625 94.838125)scale(0.12 -0.12)\">\n     <use xlink:href=\"#DejaVuSans-109\"/>\n     <use x=\"97.412109\" xlink:href=\"#DejaVuSans-111\"/>\n     <use x=\"158.59375\" xlink:href=\"#DejaVuSans-100\"/>\n     <use x=\"222.070312\" xlink:href=\"#DejaVuSans-101\"/>\n     <use x=\"283.59375\" xlink:href=\"#DejaVuSans-108\"/>\n     <use x=\"311.376953\" xlink:href=\"#DejaVuSans-32\"/>\n     <use x=\"343.164062\" xlink:href=\"#DejaVuSans-121\"/>\n     <use x=\"402.34375\" xlink:href=\"#DejaVuSans-101\"/>\n     <use x=\"463.867188\" xlink:href=\"#DejaVuSans-97\"/>\n     <use x=\"525.146484\" xlink:href=\"#DejaVuSans-114\"/>\n    </g>\n   </g>\n  </g>\n  <g id=\"axes_6\">\n   <g id=\"patch_127\">\n    <path d=\"M 275.0875 161.238125 \nL 368.0875 161.238125 \nL 368.0875 100.838125 \nL 275.0875 100.838125 \nz\n\" style=\"fill:#ffffff;\"/>\n   </g>\n   <g id=\"patch_128\">\n    <path clip-path=\"url(#p6e4eb04861)\" d=\"M 279.314773 161.238125 \nL 283.542045 161.238125 \nL 283.542045 156.923839 \nL 279.314773 156.923839 \nz\n\" style=\"fill:#1f77b4;\"/>\n   </g>\n   <g id=\"patch_129\">\n    <path clip-path=\"url(#p6e4eb04861)\" d=\"M 283.542045 161.238125 \nL 287.769318 161.238125 \nL 287.769318 146.857173 \nL 283.542045 146.857173 \nz\n\" style=\"fill:#1f77b4;\"/>\n   </g>\n   <g id=\"patch_130\">\n    <path clip-path=\"url(#p6e4eb04861)\" d=\"M 287.769318 161.238125 \nL 291.996591 161.238125 \nL 291.996591 103.714315 \nL 287.769318 103.714315 \nz\n\" style=\"fill:#1f77b4;\"/>\n   </g>\n   <g id=\"patch_131\">\n    <path clip-path=\"url(#p6e4eb04861)\" d=\"M 291.996591 161.238125 \nL 296.223864 161.238125 \nL 296.223864 106.590506 \nL 291.996591 106.590506 \nz\n\" style=\"fill:#1f77b4;\"/>\n   </g>\n   <g id=\"patch_132\">\n    <path clip-path=\"url(#p6e4eb04861)\" d=\"M 296.223864 161.238125 \nL 300.451136 161.238125 \nL 300.451136 109.466696 \nL 296.223864 109.466696 \nz\n\" style=\"fill:#1f77b4;\"/>\n   </g>\n   <g id=\"patch_133\">\n    <path clip-path=\"url(#p6e4eb04861)\" d=\"M 300.451136 161.238125 \nL 304.678409 161.238125 \nL 304.678409 108.028601 \nL 300.451136 108.028601 \nz\n\" style=\"fill:#1f77b4;\"/>\n   </g>\n   <g id=\"patch_134\">\n    <path clip-path=\"url(#p6e4eb04861)\" d=\"M 304.678409 161.238125 \nL 308.905682 161.238125 \nL 308.905682 118.095268 \nL 304.678409 118.095268 \nz\n\" style=\"fill:#1f77b4;\"/>\n   </g>\n   <g id=\"patch_135\">\n    <path clip-path=\"url(#p6e4eb04861)\" d=\"M 308.905682 161.238125 \nL 313.132955 161.238125 \nL 313.132955 116.657173 \nL 308.905682 116.657173 \nz\n\" style=\"fill:#1f77b4;\"/>\n   </g>\n   <g id=\"patch_136\">\n    <path clip-path=\"url(#p6e4eb04861)\" d=\"M 313.132955 161.238125 \nL 317.360227 161.238125 \nL 317.360227 131.038125 \nL 313.132955 131.038125 \nz\n\" style=\"fill:#1f77b4;\"/>\n   </g>\n   <g id=\"patch_137\">\n    <path clip-path=\"url(#p6e4eb04861)\" d=\"M 317.360227 161.238125 \nL 321.5875 161.238125 \nL 321.5875 113.780982 \nL 317.360227 113.780982 \nz\n\" style=\"fill:#1f77b4;\"/>\n   </g>\n   <g id=\"patch_138\">\n    <path clip-path=\"url(#p6e4eb04861)\" d=\"M 321.5875 161.238125 \nL 325.814773 161.238125 \nL 325.814773 126.723839 \nL 321.5875 126.723839 \nz\n\" style=\"fill:#1f77b4;\"/>\n   </g>\n   <g id=\"patch_139\">\n    <path clip-path=\"url(#p6e4eb04861)\" d=\"M 325.814773 161.238125 \nL 330.042045 161.238125 \nL 330.042045 126.723839 \nL 325.814773 126.723839 \nz\n\" style=\"fill:#1f77b4;\"/>\n   </g>\n   <g id=\"patch_140\">\n    <path clip-path=\"url(#p6e4eb04861)\" d=\"M 330.042045 161.238125 \nL 334.269318 161.238125 \nL 334.269318 132.47622 \nL 330.042045 132.47622 \nz\n\" style=\"fill:#1f77b4;\"/>\n   </g>\n   <g id=\"patch_141\">\n    <path clip-path=\"url(#p6e4eb04861)\" d=\"M 334.269318 161.238125 \nL 338.496591 161.238125 \nL 338.496591 135.352411 \nL 334.269318 135.352411 \nz\n\" style=\"fill:#1f77b4;\"/>\n   </g>\n   <g id=\"patch_142\">\n    <path clip-path=\"url(#p6e4eb04861)\" d=\"M 338.496591 161.238125 \nL 342.723864 161.238125 \nL 342.723864 142.542887 \nL 338.496591 142.542887 \nz\n\" style=\"fill:#1f77b4;\"/>\n   </g>\n   <g id=\"patch_143\">\n    <path clip-path=\"url(#p6e4eb04861)\" d=\"M 342.723864 161.238125 \nL 346.951136 161.238125 \nL 346.951136 148.295268 \nL 342.723864 148.295268 \nz\n\" style=\"fill:#1f77b4;\"/>\n   </g>\n   <g id=\"patch_144\">\n    <path clip-path=\"url(#p6e4eb04861)\" d=\"M 346.951136 161.238125 \nL 351.178409 161.238125 \nL 351.178409 155.485744 \nL 346.951136 155.485744 \nz\n\" style=\"fill:#1f77b4;\"/>\n   </g>\n   <g id=\"patch_145\">\n    <path clip-path=\"url(#p6e4eb04861)\" d=\"M 351.178409 161.238125 \nL 355.405682 161.238125 \nL 355.405682 159.80003 \nL 351.178409 159.80003 \nz\n\" style=\"fill:#1f77b4;\"/>\n   </g>\n   <g id=\"patch_146\">\n    <path clip-path=\"url(#p6e4eb04861)\" d=\"M 355.405682 161.238125 \nL 359.632955 161.238125 \nL 359.632955 154.047649 \nL 355.405682 154.047649 \nz\n\" style=\"fill:#1f77b4;\"/>\n   </g>\n   <g id=\"patch_147\">\n    <path clip-path=\"url(#p6e4eb04861)\" d=\"M 359.632955 161.238125 \nL 363.860227 161.238125 \nL 363.860227 159.80003 \nL 359.632955 159.80003 \nz\n\" style=\"fill:#1f77b4;\"/>\n   </g>\n   <g id=\"matplotlib.axis_11\">\n    <g id=\"xtick_13\">\n     <g id=\"line2d_53\">\n      <path clip-path=\"url(#p6e4eb04861)\" d=\"M 304.048815 161.238125 \nL 304.048815 100.838125 \n\" style=\"fill:none;stroke:#b0b0b0;stroke-linecap:square;stroke-width:0.8;\"/>\n     </g>\n     <g id=\"line2d_54\">\n      <g>\n       <use style=\"stroke:#000000;stroke-width:0.8;\" x=\"304.048815\" xlink:href=\"#m8733a3a572\" y=\"161.238125\"/>\n      </g>\n     </g>\n     <g id=\"text_32\">\n      <!-- 20 -->\n      <g transform=\"translate(297.686315 175.836563)scale(0.1 -0.1)\">\n       <use xlink:href=\"#DejaVuSans-50\"/>\n       <use x=\"63.623047\" xlink:href=\"#DejaVuSans-48\"/>\n      </g>\n     </g>\n    </g>\n    <g id=\"xtick_14\">\n     <g id=\"line2d_55\">\n      <path clip-path=\"url(#p6e4eb04861)\" d=\"M 349.019802 161.238125 \nL 349.019802 100.838125 \n\" style=\"fill:none;stroke:#b0b0b0;stroke-linecap:square;stroke-width:0.8;\"/>\n     </g>\n     <g id=\"line2d_56\">\n      <g>\n       <use style=\"stroke:#000000;stroke-width:0.8;\" x=\"349.019802\" xlink:href=\"#m8733a3a572\" y=\"161.238125\"/>\n      </g>\n     </g>\n     <g id=\"text_33\">\n      <!-- 40 -->\n      <g transform=\"translate(342.657302 175.836563)scale(0.1 -0.1)\">\n       <use xlink:href=\"#DejaVuSans-52\"/>\n       <use x=\"63.623047\" xlink:href=\"#DejaVuSans-48\"/>\n      </g>\n     </g>\n    </g>\n   </g>\n   <g id=\"matplotlib.axis_12\">\n    <g id=\"ytick_15\">\n     <g id=\"line2d_57\">\n      <path clip-path=\"url(#p6e4eb04861)\" d=\"M 275.0875 161.238125 \nL 368.0875 161.238125 \n\" style=\"fill:none;stroke:#b0b0b0;stroke-linecap:square;stroke-width:0.8;\"/>\n     </g>\n     <g id=\"line2d_58\">\n      <g>\n       <use style=\"stroke:#000000;stroke-width:0.8;\" x=\"275.0875\" xlink:href=\"#m72f4297172\" y=\"161.238125\"/>\n      </g>\n     </g>\n     <g id=\"text_34\">\n      <!-- 0 -->\n      <g transform=\"translate(261.725 165.037344)scale(0.1 -0.1)\">\n       <use xlink:href=\"#DejaVuSans-48\"/>\n      </g>\n     </g>\n    </g>\n    <g id=\"ytick_16\">\n     <g id=\"line2d_59\">\n      <path clip-path=\"url(#p6e4eb04861)\" d=\"M 275.0875 132.47622 \nL 368.0875 132.47622 \n\" style=\"fill:none;stroke:#b0b0b0;stroke-linecap:square;stroke-width:0.8;\"/>\n     </g>\n     <g id=\"line2d_60\">\n      <g>\n       <use style=\"stroke:#000000;stroke-width:0.8;\" x=\"275.0875\" xlink:href=\"#m72f4297172\" y=\"132.47622\"/>\n      </g>\n     </g>\n     <g id=\"text_35\">\n      <!-- 20 -->\n      <g transform=\"translate(255.3625 136.275439)scale(0.1 -0.1)\">\n       <use xlink:href=\"#DejaVuSans-50\"/>\n       <use x=\"63.623047\" xlink:href=\"#DejaVuSans-48\"/>\n      </g>\n     </g>\n    </g>\n    <g id=\"ytick_17\">\n     <g id=\"line2d_61\">\n      <path clip-path=\"url(#p6e4eb04861)\" d=\"M 275.0875 103.714315 \nL 368.0875 103.714315 \n\" style=\"fill:none;stroke:#b0b0b0;stroke-linecap:square;stroke-width:0.8;\"/>\n     </g>\n     <g id=\"line2d_62\">\n      <g>\n       <use style=\"stroke:#000000;stroke-width:0.8;\" x=\"275.0875\" xlink:href=\"#m72f4297172\" y=\"103.714315\"/>\n      </g>\n     </g>\n     <g id=\"text_36\">\n      <!-- 40 -->\n      <g transform=\"translate(255.3625 107.513534)scale(0.1 -0.1)\">\n       <use xlink:href=\"#DejaVuSans-52\"/>\n       <use x=\"63.623047\" xlink:href=\"#DejaVuSans-48\"/>\n      </g>\n     </g>\n    </g>\n   </g>\n   <g id=\"patch_148\">\n    <path d=\"M 275.0875 161.238125 \nL 275.0875 100.838125 \n\" style=\"fill:none;stroke:#000000;stroke-linecap:square;stroke-linejoin:miter;stroke-width:0.8;\"/>\n   </g>\n   <g id=\"patch_149\">\n    <path d=\"M 368.0875 161.238125 \nL 368.0875 100.838125 \n\" style=\"fill:none;stroke:#000000;stroke-linecap:square;stroke-linejoin:miter;stroke-width:0.8;\"/>\n   </g>\n   <g id=\"patch_150\">\n    <path d=\"M 275.0875 161.238125 \nL 368.0875 161.238125 \n\" style=\"fill:none;stroke:#000000;stroke-linecap:square;stroke-linejoin:miter;stroke-width:0.8;\"/>\n   </g>\n   <g id=\"patch_151\">\n    <path d=\"M 275.0875 100.838125 \nL 368.0875 100.838125 \n\" style=\"fill:none;stroke:#000000;stroke-linecap:square;stroke-linejoin:miter;stroke-width:0.8;\"/>\n   </g>\n   <g id=\"text_37\">\n    <!-- mpg -->\n    <defs>\n     <path d=\"M 45.40625 27.984375 \nQ 45.40625 37.75 41.375 43.109375 \nQ 37.359375 48.484375 30.078125 48.484375 \nQ 22.859375 48.484375 18.828125 43.109375 \nQ 14.796875 37.75 14.796875 27.984375 \nQ 14.796875 18.265625 18.828125 12.890625 \nQ 22.859375 7.515625 30.078125 7.515625 \nQ 37.359375 7.515625 41.375 12.890625 \nQ 45.40625 18.265625 45.40625 27.984375 \nz\nM 54.390625 6.78125 \nQ 54.390625 -7.171875 48.1875 -13.984375 \nQ 42 -20.796875 29.203125 -20.796875 \nQ 24.46875 -20.796875 20.265625 -20.09375 \nQ 16.0625 -19.390625 12.109375 -17.921875 \nL 12.109375 -9.1875 \nQ 16.0625 -11.328125 19.921875 -12.34375 \nQ 23.78125 -13.375 27.78125 -13.375 \nQ 36.625 -13.375 41.015625 -8.765625 \nQ 45.40625 -4.15625 45.40625 5.171875 \nL 45.40625 9.625 \nQ 42.625 4.78125 38.28125 2.390625 \nQ 33.9375 0 27.875 0 \nQ 17.828125 0 11.671875 7.65625 \nQ 5.515625 15.328125 5.515625 27.984375 \nQ 5.515625 40.671875 11.671875 48.328125 \nQ 17.828125 56 27.875 56 \nQ 33.9375 56 38.28125 53.609375 \nQ 42.625 51.21875 45.40625 46.390625 \nL 45.40625 54.6875 \nL 54.390625 54.6875 \nz\n\" id=\"DejaVuSans-103\"/>\n    </defs>\n    <g transform=\"translate(308.125 94.838125)scale(0.12 -0.12)\">\n     <use xlink:href=\"#DejaVuSans-109\"/>\n     <use x=\"97.412109\" xlink:href=\"#DejaVuSans-112\"/>\n     <use x=\"160.888672\" xlink:href=\"#DejaVuSans-103\"/>\n    </g>\n   </g>\n  </g>\n  <g id=\"axes_7\">\n   <g id=\"patch_152\">\n    <path d=\"M 33.2875 239.758125 \nL 126.2875 239.758125 \nL 126.2875 179.358125 \nL 33.2875 179.358125 \nz\n\" style=\"fill:#ffffff;\"/>\n   </g>\n   <g id=\"patch_153\">\n    <path clip-path=\"url(#pba3d65b0f4)\" d=\"M 37.514773 239.758125 \nL 41.742045 239.758125 \nL 41.742045 182.234315 \nL 37.514773 182.234315 \nz\n\" style=\"fill:#1f77b4;\"/>\n   </g>\n   <g id=\"patch_154\">\n    <path clip-path=\"url(#pba3d65b0f4)\" d=\"M 41.742045 239.758125 \nL 45.969318 239.758125 \nL 45.969318 239.758125 \nL 41.742045 239.758125 \nz\n\" style=\"fill:#1f77b4;\"/>\n   </g>\n   <g id=\"patch_155\">\n    <path clip-path=\"url(#pba3d65b0f4)\" d=\"M 45.969318 239.758125 \nL 50.196591 239.758125 \nL 50.196591 239.758125 \nL 45.969318 239.758125 \nz\n\" style=\"fill:#1f77b4;\"/>\n   </g>\n   <g id=\"patch_156\">\n    <path clip-path=\"url(#pba3d65b0f4)\" d=\"M 50.196591 239.758125 \nL 54.423864 239.758125 \nL 54.423864 239.758125 \nL 50.196591 239.758125 \nz\n\" style=\"fill:#1f77b4;\"/>\n   </g>\n   <g id=\"patch_157\">\n    <path clip-path=\"url(#pba3d65b0f4)\" d=\"M 54.423864 239.758125 \nL 58.651136 239.758125 \nL 58.651136 239.758125 \nL 54.423864 239.758125 \nz\n\" style=\"fill:#1f77b4;\"/>\n   </g>\n   <g id=\"patch_158\">\n    <path clip-path=\"url(#pba3d65b0f4)\" d=\"M 58.651136 239.758125 \nL 62.878409 239.758125 \nL 62.878409 239.758125 \nL 58.651136 239.758125 \nz\n\" style=\"fill:#1f77b4;\"/>\n   </g>\n   <g id=\"patch_159\">\n    <path clip-path=\"url(#pba3d65b0f4)\" d=\"M 62.878409 239.758125 \nL 67.105682 239.758125 \nL 67.105682 239.758125 \nL 62.878409 239.758125 \nz\n\" style=\"fill:#1f77b4;\"/>\n   </g>\n   <g id=\"patch_160\">\n    <path clip-path=\"url(#pba3d65b0f4)\" d=\"M 67.105682 239.758125 \nL 71.332955 239.758125 \nL 71.332955 239.758125 \nL 67.105682 239.758125 \nz\n\" style=\"fill:#1f77b4;\"/>\n   </g>\n   <g id=\"patch_161\">\n    <path clip-path=\"url(#pba3d65b0f4)\" d=\"M 71.332955 239.758125 \nL 75.560227 239.758125 \nL 75.560227 239.758125 \nL 71.332955 239.758125 \nz\n\" style=\"fill:#1f77b4;\"/>\n   </g>\n   <g id=\"patch_162\">\n    <path clip-path=\"url(#pba3d65b0f4)\" d=\"M 75.560227 239.758125 \nL 79.7875 239.758125 \nL 79.7875 239.758125 \nL 75.560227 239.758125 \nz\n\" style=\"fill:#1f77b4;\"/>\n   </g>\n   <g id=\"patch_163\">\n    <path clip-path=\"url(#pba3d65b0f4)\" d=\"M 79.7875 239.758125 \nL 84.014773 239.758125 \nL 84.014773 223.586773 \nL 79.7875 223.586773 \nz\n\" style=\"fill:#1f77b4;\"/>\n   </g>\n   <g id=\"patch_164\">\n    <path clip-path=\"url(#pba3d65b0f4)\" d=\"M 84.014773 239.758125 \nL 88.242045 239.758125 \nL 88.242045 239.758125 \nL 84.014773 239.758125 \nz\n\" style=\"fill:#1f77b4;\"/>\n   </g>\n   <g id=\"patch_165\">\n    <path clip-path=\"url(#pba3d65b0f4)\" d=\"M 88.242045 239.758125 \nL 92.469318 239.758125 \nL 92.469318 239.758125 \nL 88.242045 239.758125 \nz\n\" style=\"fill:#1f77b4;\"/>\n   </g>\n   <g id=\"patch_166\">\n    <path clip-path=\"url(#pba3d65b0f4)\" d=\"M 92.469318 239.758125 \nL 96.696591 239.758125 \nL 96.696591 239.758125 \nL 92.469318 239.758125 \nz\n\" style=\"fill:#1f77b4;\"/>\n   </g>\n   <g id=\"patch_167\">\n    <path clip-path=\"url(#pba3d65b0f4)\" d=\"M 96.696591 239.758125 \nL 100.923864 239.758125 \nL 100.923864 239.758125 \nL 96.696591 239.758125 \nz\n\" style=\"fill:#1f77b4;\"/>\n   </g>\n   <g id=\"patch_168\">\n    <path clip-path=\"url(#pba3d65b0f4)\" d=\"M 100.923864 239.758125 \nL 105.151136 239.758125 \nL 105.151136 239.758125 \nL 100.923864 239.758125 \nz\n\" style=\"fill:#1f77b4;\"/>\n   </g>\n   <g id=\"patch_169\">\n    <path clip-path=\"url(#pba3d65b0f4)\" d=\"M 105.151136 239.758125 \nL 109.378409 239.758125 \nL 109.378409 239.758125 \nL 105.151136 239.758125 \nz\n\" style=\"fill:#1f77b4;\"/>\n   </g>\n   <g id=\"patch_170\">\n    <path clip-path=\"url(#pba3d65b0f4)\" d=\"M 109.378409 239.758125 \nL 113.605682 239.758125 \nL 113.605682 239.758125 \nL 109.378409 239.758125 \nz\n\" style=\"fill:#1f77b4;\"/>\n   </g>\n   <g id=\"patch_171\">\n    <path clip-path=\"url(#pba3d65b0f4)\" d=\"M 113.605682 239.758125 \nL 117.832955 239.758125 \nL 117.832955 239.758125 \nL 113.605682 239.758125 \nz\n\" style=\"fill:#1f77b4;\"/>\n   </g>\n   <g id=\"patch_172\">\n    <path clip-path=\"url(#pba3d65b0f4)\" d=\"M 117.832955 239.758125 \nL 122.060227 239.758125 \nL 122.060227 221.507599 \nL 117.832955 221.507599 \nz\n\" style=\"fill:#1f77b4;\"/>\n   </g>\n   <g id=\"matplotlib.axis_13\">\n    <g id=\"xtick_15\">\n     <g id=\"line2d_63\">\n      <path clip-path=\"url(#pba3d65b0f4)\" d=\"M 37.514773 239.758125 \nL 37.514773 179.358125 \n\" style=\"fill:none;stroke:#b0b0b0;stroke-linecap:square;stroke-width:0.8;\"/>\n     </g>\n     <g id=\"line2d_64\">\n      <g>\n       <use style=\"stroke:#000000;stroke-width:0.8;\" x=\"37.514773\" xlink:href=\"#m8733a3a572\" y=\"239.758125\"/>\n      </g>\n     </g>\n     <g id=\"text_38\">\n      <!-- 1 -->\n      <g transform=\"translate(34.333523 254.356563)scale(0.1 -0.1)\">\n       <use xlink:href=\"#DejaVuSans-49\"/>\n      </g>\n     </g>\n    </g>\n    <g id=\"xtick_16\">\n     <g id=\"line2d_65\">\n      <path clip-path=\"url(#pba3d65b0f4)\" d=\"M 79.7875 239.758125 \nL 79.7875 179.358125 \n\" style=\"fill:none;stroke:#b0b0b0;stroke-linecap:square;stroke-width:0.8;\"/>\n     </g>\n     <g id=\"line2d_66\">\n      <g>\n       <use style=\"stroke:#000000;stroke-width:0.8;\" x=\"79.7875\" xlink:href=\"#m8733a3a572\" y=\"239.758125\"/>\n      </g>\n     </g>\n     <g id=\"text_39\">\n      <!-- 2 -->\n      <g transform=\"translate(76.60625 254.356563)scale(0.1 -0.1)\">\n       <use xlink:href=\"#DejaVuSans-50\"/>\n      </g>\n     </g>\n    </g>\n    <g id=\"xtick_17\">\n     <g id=\"line2d_67\">\n      <path clip-path=\"url(#pba3d65b0f4)\" d=\"M 122.060227 239.758125 \nL 122.060227 179.358125 \n\" style=\"fill:none;stroke:#b0b0b0;stroke-linecap:square;stroke-width:0.8;\"/>\n     </g>\n     <g id=\"line2d_68\">\n      <g>\n       <use style=\"stroke:#000000;stroke-width:0.8;\" x=\"122.060227\" xlink:href=\"#m8733a3a572\" y=\"239.758125\"/>\n      </g>\n     </g>\n     <g id=\"text_40\">\n      <!-- 3 -->\n      <defs>\n       <path d=\"M 40.578125 39.3125 \nQ 47.65625 37.796875 51.625 33 \nQ 55.609375 28.21875 55.609375 21.1875 \nQ 55.609375 10.40625 48.1875 4.484375 \nQ 40.765625 -1.421875 27.09375 -1.421875 \nQ 22.515625 -1.421875 17.65625 -0.515625 \nQ 12.796875 0.390625 7.625 2.203125 \nL 7.625 11.71875 \nQ 11.71875 9.328125 16.59375 8.109375 \nQ 21.484375 6.890625 26.8125 6.890625 \nQ 36.078125 6.890625 40.9375 10.546875 \nQ 45.796875 14.203125 45.796875 21.1875 \nQ 45.796875 27.640625 41.28125 31.265625 \nQ 36.765625 34.90625 28.71875 34.90625 \nL 20.21875 34.90625 \nL 20.21875 43.015625 \nL 29.109375 43.015625 \nQ 36.375 43.015625 40.234375 45.921875 \nQ 44.09375 48.828125 44.09375 54.296875 \nQ 44.09375 59.90625 40.109375 62.90625 \nQ 36.140625 65.921875 28.71875 65.921875 \nQ 24.65625 65.921875 20.015625 65.03125 \nQ 15.375 64.15625 9.8125 62.3125 \nL 9.8125 71.09375 \nQ 15.4375 72.65625 20.34375 73.4375 \nQ 25.25 74.21875 29.59375 74.21875 \nQ 40.828125 74.21875 47.359375 69.109375 \nQ 53.90625 64.015625 53.90625 55.328125 \nQ 53.90625 49.265625 50.4375 45.09375 \nQ 46.96875 40.921875 40.578125 39.3125 \nz\n\" id=\"DejaVuSans-51\"/>\n      </defs>\n      <g transform=\"translate(118.878977 254.356563)scale(0.1 -0.1)\">\n       <use xlink:href=\"#DejaVuSans-51\"/>\n      </g>\n     </g>\n    </g>\n   </g>\n   <g id=\"matplotlib.axis_14\">\n    <g id=\"ytick_18\">\n     <g id=\"line2d_69\">\n      <path clip-path=\"url(#pba3d65b0f4)\" d=\"M 33.2875 239.758125 \nL 126.2875 239.758125 \n\" style=\"fill:none;stroke:#b0b0b0;stroke-linecap:square;stroke-width:0.8;\"/>\n     </g>\n     <g id=\"line2d_70\">\n      <g>\n       <use style=\"stroke:#000000;stroke-width:0.8;\" x=\"33.2875\" xlink:href=\"#m72f4297172\" y=\"239.758125\"/>\n      </g>\n     </g>\n     <g id=\"text_41\">\n      <!-- 0 -->\n      <g transform=\"translate(19.925 243.557344)scale(0.1 -0.1)\">\n       <use xlink:href=\"#DejaVuSans-48\"/>\n      </g>\n     </g>\n    </g>\n    <g id=\"ytick_19\">\n     <g id=\"line2d_71\">\n      <path clip-path=\"url(#pba3d65b0f4)\" d=\"M 33.2875 216.656193 \nL 126.2875 216.656193 \n\" style=\"fill:none;stroke:#b0b0b0;stroke-linecap:square;stroke-width:0.8;\"/>\n     </g>\n     <g id=\"line2d_72\">\n      <g>\n       <use style=\"stroke:#000000;stroke-width:0.8;\" x=\"33.2875\" xlink:href=\"#m72f4297172\" y=\"216.656193\"/>\n      </g>\n     </g>\n     <g id=\"text_42\">\n      <!-- 100 -->\n      <g transform=\"translate(7.2 220.455412)scale(0.1 -0.1)\">\n       <use xlink:href=\"#DejaVuSans-49\"/>\n       <use x=\"63.623047\" xlink:href=\"#DejaVuSans-48\"/>\n       <use x=\"127.246094\" xlink:href=\"#DejaVuSans-48\"/>\n      </g>\n     </g>\n    </g>\n    <g id=\"ytick_20\">\n     <g id=\"line2d_73\">\n      <path clip-path=\"url(#pba3d65b0f4)\" d=\"M 33.2875 193.554262 \nL 126.2875 193.554262 \n\" style=\"fill:none;stroke:#b0b0b0;stroke-linecap:square;stroke-width:0.8;\"/>\n     </g>\n     <g id=\"line2d_74\">\n      <g>\n       <use style=\"stroke:#000000;stroke-width:0.8;\" x=\"33.2875\" xlink:href=\"#m72f4297172\" y=\"193.554262\"/>\n      </g>\n     </g>\n     <g id=\"text_43\">\n      <!-- 200 -->\n      <g transform=\"translate(7.2 197.353481)scale(0.1 -0.1)\">\n       <use xlink:href=\"#DejaVuSans-50\"/>\n       <use x=\"63.623047\" xlink:href=\"#DejaVuSans-48\"/>\n       <use x=\"127.246094\" xlink:href=\"#DejaVuSans-48\"/>\n      </g>\n     </g>\n    </g>\n   </g>\n   <g id=\"patch_173\">\n    <path d=\"M 33.2875 239.758125 \nL 33.2875 179.358125 \n\" style=\"fill:none;stroke:#000000;stroke-linecap:square;stroke-linejoin:miter;stroke-width:0.8;\"/>\n   </g>\n   <g id=\"patch_174\">\n    <path d=\"M 126.2875 239.758125 \nL 126.2875 179.358125 \n\" style=\"fill:none;stroke:#000000;stroke-linecap:square;stroke-linejoin:miter;stroke-width:0.8;\"/>\n   </g>\n   <g id=\"patch_175\">\n    <path d=\"M 33.2875 239.758125 \nL 126.2875 239.758125 \n\" style=\"fill:none;stroke:#000000;stroke-linecap:square;stroke-linejoin:miter;stroke-width:0.8;\"/>\n   </g>\n   <g id=\"patch_176\">\n    <path d=\"M 33.2875 179.358125 \nL 126.2875 179.358125 \n\" style=\"fill:none;stroke:#000000;stroke-linecap:square;stroke-linejoin:miter;stroke-width:0.8;\"/>\n   </g>\n   <g id=\"text_44\">\n    <!-- origin -->\n    <g transform=\"translate(62.704375 173.358125)scale(0.12 -0.12)\">\n     <use xlink:href=\"#DejaVuSans-111\"/>\n     <use x=\"61.181641\" xlink:href=\"#DejaVuSans-114\"/>\n     <use x=\"102.294922\" xlink:href=\"#DejaVuSans-105\"/>\n     <use x=\"130.078125\" xlink:href=\"#DejaVuSans-103\"/>\n     <use x=\"193.554688\" xlink:href=\"#DejaVuSans-105\"/>\n     <use x=\"221.337891\" xlink:href=\"#DejaVuSans-110\"/>\n    </g>\n   </g>\n  </g>\n  <g id=\"axes_8\">\n   <g id=\"patch_177\">\n    <path d=\"M 154.1875 239.758125 \nL 247.1875 239.758125 \nL 247.1875 179.358125 \nL 154.1875 179.358125 \nz\n\" style=\"fill:#ffffff;\"/>\n   </g>\n   <g id=\"patch_178\">\n    <path clip-path=\"url(#p17c05861ac)\" d=\"M 158.414773 239.758125 \nL 162.642045 239.758125 \nL 162.642045 233.366591 \nL 158.414773 233.366591 \nz\n\" style=\"fill:#1f77b4;\"/>\n   </g>\n   <g id=\"patch_179\">\n    <path clip-path=\"url(#p17c05861ac)\" d=\"M 162.642045 239.758125 \nL 166.869318 239.758125 \nL 166.869318 206.522146 \nL 162.642045 206.522146 \nz\n\" style=\"fill:#1f77b4;\"/>\n   </g>\n   <g id=\"patch_180\">\n    <path clip-path=\"url(#p17c05861ac)\" d=\"M 166.869318 239.758125 \nL 171.096591 239.758125 \nL 171.096591 182.234315 \nL 166.869318 182.234315 \nz\n\" style=\"fill:#1f77b4;\"/>\n   </g>\n   <g id=\"patch_181\">\n    <path clip-path=\"url(#p17c05861ac)\" d=\"M 171.096591 239.758125 \nL 175.323864 239.758125 \nL 175.323864 182.234315 \nL 171.096591 182.234315 \nz\n\" style=\"fill:#1f77b4;\"/>\n   </g>\n   <g id=\"patch_182\">\n    <path clip-path=\"url(#p17c05861ac)\" d=\"M 175.323864 239.758125 \nL 179.551136 239.758125 \nL 179.551136 207.800453 \nL 175.323864 207.800453 \nz\n\" style=\"fill:#1f77b4;\"/>\n   </g>\n   <g id=\"patch_183\">\n    <path clip-path=\"url(#p17c05861ac)\" d=\"M 179.551136 239.758125 \nL 183.778409 239.758125 \nL 183.778409 196.295691 \nL 179.551136 196.295691 \nz\n\" style=\"fill:#1f77b4;\"/>\n   </g>\n   <g id=\"patch_184\">\n    <path clip-path=\"url(#p17c05861ac)\" d=\"M 183.778409 239.758125 \nL 188.005682 239.758125 \nL 188.005682 209.07876 \nL 183.778409 209.07876 \nz\n\" style=\"fill:#1f77b4;\"/>\n   </g>\n   <g id=\"patch_185\">\n    <path clip-path=\"url(#p17c05861ac)\" d=\"M 188.005682 239.758125 \nL 192.232955 239.758125 \nL 192.232955 201.408919 \nL 188.005682 201.408919 \nz\n\" style=\"fill:#1f77b4;\"/>\n   </g>\n   <g id=\"patch_186\">\n    <path clip-path=\"url(#p17c05861ac)\" d=\"M 192.232955 239.758125 \nL 196.460227 239.758125 \nL 196.460227 218.026908 \nL 192.232955 218.026908 \nz\n\" style=\"fill:#1f77b4;\"/>\n   </g>\n   <g id=\"patch_187\">\n    <path clip-path=\"url(#p17c05861ac)\" d=\"M 196.460227 239.758125 \nL 200.6875 239.758125 \nL 200.6875 214.191987 \nL 196.460227 214.191987 \nz\n\" style=\"fill:#1f77b4;\"/>\n   </g>\n   <g id=\"patch_188\">\n    <path clip-path=\"url(#p17c05861ac)\" d=\"M 200.6875 239.758125 \nL 204.914773 239.758125 \nL 204.914773 210.357067 \nL 200.6875 210.357067 \nz\n\" style=\"fill:#1f77b4;\"/>\n   </g>\n   <g id=\"patch_189\">\n    <path clip-path=\"url(#p17c05861ac)\" d=\"M 204.914773 239.758125 \nL 209.142045 239.758125 \nL 209.142045 218.026908 \nL 204.914773 218.026908 \nz\n\" style=\"fill:#1f77b4;\"/>\n   </g>\n   <g id=\"patch_190\">\n    <path clip-path=\"url(#p17c05861ac)\" d=\"M 209.142045 239.758125 \nL 213.369318 239.758125 \nL 213.369318 218.026908 \nL 209.142045 218.026908 \nz\n\" style=\"fill:#1f77b4;\"/>\n   </g>\n   <g id=\"patch_191\">\n    <path clip-path=\"url(#p17c05861ac)\" d=\"M 213.369318 239.758125 \nL 217.596591 239.758125 \nL 217.596591 224.418442 \nL 213.369318 224.418442 \nz\n\" style=\"fill:#1f77b4;\"/>\n   </g>\n   <g id=\"patch_192\">\n    <path clip-path=\"url(#p17c05861ac)\" d=\"M 217.596591 239.758125 \nL 221.823864 239.758125 \nL 221.823864 218.026908 \nL 217.596591 218.026908 \nz\n\" style=\"fill:#1f77b4;\"/>\n   </g>\n   <g id=\"patch_193\">\n    <path clip-path=\"url(#p17c05861ac)\" d=\"M 221.823864 239.758125 \nL 226.051136 239.758125 \nL 226.051136 218.026908 \nL 221.823864 218.026908 \nz\n\" style=\"fill:#1f77b4;\"/>\n   </g>\n   <g id=\"patch_194\">\n    <path clip-path=\"url(#p17c05861ac)\" d=\"M 226.051136 239.758125 \nL 230.278409 239.758125 \nL 230.278409 229.53167 \nL 226.051136 229.53167 \nz\n\" style=\"fill:#1f77b4;\"/>\n   </g>\n   <g id=\"patch_195\">\n    <path clip-path=\"url(#p17c05861ac)\" d=\"M 230.278409 239.758125 \nL 234.505682 239.758125 \nL 234.505682 226.975056 \nL 230.278409 226.975056 \nz\n\" style=\"fill:#1f77b4;\"/>\n   </g>\n   <g id=\"patch_196\">\n    <path clip-path=\"url(#p17c05861ac)\" d=\"M 234.505682 239.758125 \nL 238.732955 239.758125 \nL 238.732955 234.644897 \nL 234.505682 234.644897 \nz\n\" style=\"fill:#1f77b4;\"/>\n   </g>\n   <g id=\"patch_197\">\n    <path clip-path=\"url(#p17c05861ac)\" d=\"M 238.732955 239.758125 \nL 242.960227 239.758125 \nL 242.960227 237.201511 \nL 238.732955 237.201511 \nz\n\" style=\"fill:#1f77b4;\"/>\n   </g>\n   <g id=\"matplotlib.axis_15\">\n    <g id=\"xtick_18\">\n     <g id=\"line2d_75\">\n      <path clip-path=\"url(#p17c05861ac)\" d=\"M 167.691521 239.758125 \nL 167.691521 179.358125 \n\" style=\"fill:none;stroke:#b0b0b0;stroke-linecap:square;stroke-width:0.8;\"/>\n     </g>\n     <g id=\"line2d_76\">\n      <g>\n       <use style=\"stroke:#000000;stroke-width:0.8;\" x=\"167.691521\" xlink:href=\"#m8733a3a572\" y=\"239.758125\"/>\n      </g>\n     </g>\n     <g id=\"text_45\">\n      <!-- 2000 -->\n      <g transform=\"translate(154.966521 254.356563)scale(0.1 -0.1)\">\n       <use xlink:href=\"#DejaVuSans-50\"/>\n       <use x=\"63.623047\" xlink:href=\"#DejaVuSans-48\"/>\n       <use x=\"127.246094\" xlink:href=\"#DejaVuSans-48\"/>\n       <use x=\"190.869141\" xlink:href=\"#DejaVuSans-48\"/>\n      </g>\n     </g>\n    </g>\n    <g id=\"xtick_19\">\n     <g id=\"line2d_77\">\n      <path clip-path=\"url(#p17c05861ac)\" d=\"M 215.633372 239.758125 \nL 215.633372 179.358125 \n\" style=\"fill:none;stroke:#b0b0b0;stroke-linecap:square;stroke-width:0.8;\"/>\n     </g>\n     <g id=\"line2d_78\">\n      <g>\n       <use style=\"stroke:#000000;stroke-width:0.8;\" x=\"215.633372\" xlink:href=\"#m8733a3a572\" y=\"239.758125\"/>\n      </g>\n     </g>\n     <g id=\"text_46\">\n      <!-- 4000 -->\n      <g transform=\"translate(202.908372 254.356563)scale(0.1 -0.1)\">\n       <use xlink:href=\"#DejaVuSans-52\"/>\n       <use x=\"63.623047\" xlink:href=\"#DejaVuSans-48\"/>\n       <use x=\"127.246094\" xlink:href=\"#DejaVuSans-48\"/>\n       <use x=\"190.869141\" xlink:href=\"#DejaVuSans-48\"/>\n      </g>\n     </g>\n    </g>\n   </g>\n   <g id=\"matplotlib.axis_16\">\n    <g id=\"ytick_21\">\n     <g id=\"line2d_79\">\n      <path clip-path=\"url(#p17c05861ac)\" d=\"M 154.1875 239.758125 \nL 247.1875 239.758125 \n\" style=\"fill:none;stroke:#b0b0b0;stroke-linecap:square;stroke-width:0.8;\"/>\n     </g>\n     <g id=\"line2d_80\">\n      <g>\n       <use style=\"stroke:#000000;stroke-width:0.8;\" x=\"154.1875\" xlink:href=\"#m72f4297172\" y=\"239.758125\"/>\n      </g>\n     </g>\n     <g id=\"text_47\">\n      <!-- 0 -->\n      <g transform=\"translate(140.825 243.557344)scale(0.1 -0.1)\">\n       <use xlink:href=\"#DejaVuSans-48\"/>\n      </g>\n     </g>\n    </g>\n    <g id=\"ytick_22\">\n     <g id=\"line2d_81\">\n      <path clip-path=\"url(#p17c05861ac)\" d=\"M 154.1875 214.191987 \nL 247.1875 214.191987 \n\" style=\"fill:none;stroke:#b0b0b0;stroke-linecap:square;stroke-width:0.8;\"/>\n     </g>\n     <g id=\"line2d_82\">\n      <g>\n       <use style=\"stroke:#000000;stroke-width:0.8;\" x=\"154.1875\" xlink:href=\"#m72f4297172\" y=\"214.191987\"/>\n      </g>\n     </g>\n     <g id=\"text_48\">\n      <!-- 20 -->\n      <g transform=\"translate(134.4625 217.991206)scale(0.1 -0.1)\">\n       <use xlink:href=\"#DejaVuSans-50\"/>\n       <use x=\"63.623047\" xlink:href=\"#DejaVuSans-48\"/>\n      </g>\n     </g>\n    </g>\n    <g id=\"ytick_23\">\n     <g id=\"line2d_83\">\n      <path clip-path=\"url(#p17c05861ac)\" d=\"M 154.1875 188.62585 \nL 247.1875 188.62585 \n\" style=\"fill:none;stroke:#b0b0b0;stroke-linecap:square;stroke-width:0.8;\"/>\n     </g>\n     <g id=\"line2d_84\">\n      <g>\n       <use style=\"stroke:#000000;stroke-width:0.8;\" x=\"154.1875\" xlink:href=\"#m72f4297172\" y=\"188.62585\"/>\n      </g>\n     </g>\n     <g id=\"text_49\">\n      <!-- 40 -->\n      <g transform=\"translate(134.4625 192.425069)scale(0.1 -0.1)\">\n       <use xlink:href=\"#DejaVuSans-52\"/>\n       <use x=\"63.623047\" xlink:href=\"#DejaVuSans-48\"/>\n      </g>\n     </g>\n    </g>\n   </g>\n   <g id=\"patch_198\">\n    <path d=\"M 154.1875 239.758125 \nL 154.1875 179.358125 \n\" style=\"fill:none;stroke:#000000;stroke-linecap:square;stroke-linejoin:miter;stroke-width:0.8;\"/>\n   </g>\n   <g id=\"patch_199\">\n    <path d=\"M 247.1875 239.758125 \nL 247.1875 179.358125 \n\" style=\"fill:none;stroke:#000000;stroke-linecap:square;stroke-linejoin:miter;stroke-width:0.8;\"/>\n   </g>\n   <g id=\"patch_200\">\n    <path d=\"M 154.1875 239.758125 \nL 247.1875 239.758125 \n\" style=\"fill:none;stroke:#000000;stroke-linecap:square;stroke-linejoin:miter;stroke-width:0.8;\"/>\n   </g>\n   <g id=\"patch_201\">\n    <path d=\"M 154.1875 179.358125 \nL 247.1875 179.358125 \n\" style=\"fill:none;stroke:#000000;stroke-linecap:square;stroke-linejoin:miter;stroke-width:0.8;\"/>\n   </g>\n   <g id=\"text_50\">\n    <!-- weight -->\n    <g transform=\"translate(180.458125 173.358125)scale(0.12 -0.12)\">\n     <use xlink:href=\"#DejaVuSans-119\"/>\n     <use x=\"81.787109\" xlink:href=\"#DejaVuSans-101\"/>\n     <use x=\"143.310547\" xlink:href=\"#DejaVuSans-105\"/>\n     <use x=\"171.09375\" xlink:href=\"#DejaVuSans-103\"/>\n     <use x=\"234.570312\" xlink:href=\"#DejaVuSans-104\"/>\n     <use x=\"297.949219\" xlink:href=\"#DejaVuSans-116\"/>\n    </g>\n   </g>\n  </g>\n </g>\n <defs>\n  <clipPath id=\"pd18b54cd6b\">\n   <rect height=\"60.4\" width=\"93\" x=\"33.2875\" y=\"22.318125\"/>\n  </clipPath>\n  <clipPath id=\"p74e0db7fc3\">\n   <rect height=\"60.4\" width=\"93\" x=\"154.1875\" y=\"22.318125\"/>\n  </clipPath>\n  <clipPath id=\"pc5386c9ae8\">\n   <rect height=\"60.4\" width=\"93\" x=\"275.0875\" y=\"22.318125\"/>\n  </clipPath>\n  <clipPath id=\"pff083bed9d\">\n   <rect height=\"60.4\" width=\"93\" x=\"33.2875\" y=\"100.838125\"/>\n  </clipPath>\n  <clipPath id=\"pe8eaa17954\">\n   <rect height=\"60.4\" width=\"93\" x=\"154.1875\" y=\"100.838125\"/>\n  </clipPath>\n  <clipPath id=\"p6e4eb04861\">\n   <rect height=\"60.4\" width=\"93\" x=\"275.0875\" y=\"100.838125\"/>\n  </clipPath>\n  <clipPath id=\"pba3d65b0f4\">\n   <rect height=\"60.4\" width=\"93\" x=\"33.2875\" y=\"179.358125\"/>\n  </clipPath>\n  <clipPath id=\"p17c05861ac\">\n   <rect height=\"60.4\" width=\"93\" x=\"154.1875\" y=\"179.358125\"/>\n  </clipPath>\n </defs>\n</svg>\n",
            "image/png": "[encoded data removed]"
          },
          "metadata": {
            "needs_background": "light"
          }
        }
      ]
    },
    {
      "cell_type": "markdown",
      "metadata": {
        "id": "naDuTzxccc6x"
      },
      "source": [
        "### Step 10\n",
        "BONUS: Visualize the relationships between these data points. \n",
        "\n",
        "- Create a function to scale your dataset by using the formula $b=\\frac{x-min}{max-min}$. \n",
        "- Using this function, scale `displacement`, `horsepower`, `acceleration`, weight`, and `mpg`.\n",
        "- Create a boxplot of `mpg` for different `origin` values before and after scaling. \n"
      ]
    },
    {
      "cell_type": "code",
      "metadata": {
        "id": "mMKveWYEcc6x"
      },
      "source": [],
      "execution_count": null,
      "outputs": []
    }
  ]
}