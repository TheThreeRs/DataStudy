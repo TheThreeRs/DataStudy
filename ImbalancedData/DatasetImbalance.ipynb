{
  "nbformat": 4,
  "nbformat_minor": 0,
  "metadata": {
    "colab": {
      "name": "Untitled2.ipynb",
      "provenance": [],
      "authorship_tag": "ABX9TyMtV8SJZB6o+tpg7XJSxkYh",
      "include_colab_link": true
    },
    "kernelspec": {
      "name": "python3",
      "display_name": "Python 3",
      "language": "python"
    }
  },
  "cells": [
    {
      "cell_type": "markdown",
      "metadata": {
        "id": "view-in-github",
        "colab_type": "text"
      },
      "source": [
        "<a href=\"https://colab.research.google.com/github/TheThreeRs/DataStudy/blob/main/DatasetImbalance.ipynb\" target=\"_parent\"><img src=\"https://colab.research.google.com/assets/colab-badge.svg\" alt=\"Open In Colab\"/></a>"
      ]
    },
    {
      "source": [
        "# Fixing Imbalanced Dataset\n",
        "## Create Random datapoints\n",
        "We create an array of 10200 datapoints. First 100 points are 1, second 100 points are 2, and the rest is 0.\n",
        "It is a simple array `y_true`. "
      ],
      "cell_type": "markdown",
      "metadata": {}
    },
    {
      "cell_type": "code",
      "metadata": {
        "colab": {
          "base_uri": "https://localhost:8080/"
        },
        "id": "zWEOZ3k6pwsh",
        "outputId": "6dd85e2e-636c-4662-f3fb-d18cad1aaa26"
      },
      "source": [
        "# calculates precision for 1:1:100 dataset \n",
        "\n",
        "from sklearn.metrics import precision_score\n",
        "# define actual\n",
        "act_pos1 = [1 for _ in range(100)]\n",
        "act_pos2 = [2 for _ in range(100)]\n",
        "act_neg = [0 for _ in range(10000)]\n",
        "y_true = act_pos1 + act_pos2 + act_neg\n",
        "\n",
        "import numpy as np\n",
        "myarray= np.array(y_true)\n",
        "myarray.shape\n"
      ],
      "execution_count": 15,
      "outputs": [
        {
          "output_type": "execute_result",
          "data": {
            "text/plain": [
              "(10200,)"
            ]
          },
          "metadata": {},
          "execution_count": 15
        }
      ]
    },
    {
      "source": [
        "## Make Random predictions\n",
        "Now we have an array, we can make random predictions from each array set and concatenating into a single array `y_pred`."
      ],
      "cell_type": "markdown",
      "metadata": {}
    },
    {
      "cell_type": "code",
      "execution_count": null,
      "metadata": {},
      "outputs": [],
      "source": [
        "# define predictions\n",
        "pred_pos1 = [0 for _ in range(1)] + [1 for _ in range(99)]\n",
        "pred_pos2 = [0 for _ in range(1)] + [2 for _ in range(99)]\n",
        "pred_neg = [1 for _ in range(1)] + [2 for _ in range(70)] + [0 for _ in range(9929)]\n",
        "y_pred = pred_pos1 + pred_pos2 + pred_neg\n",
        "\n",
        "# calculate prediction\n",
        "precision = precision_score(y_true, y_pred, labels=[1, 2], average='micro')\n",
        "print('Precision: %.3f' % precision)"
      ]
    },
    {
      "source": [
        "# Prediction with .990 precision\n",
        "If we have incorrect predictions for each range once, we end up with .990 precision"
      ],
      "cell_type": "markdown",
      "metadata": {}
    },
    {
      "cell_type": "code",
      "execution_count": 14,
      "metadata": {},
      "outputs": [
        {
          "output_type": "stream",
          "name": "stdout",
          "text": [
            "Precision: 0.990\n"
          ]
        }
      ],
      "source": [
        "# define predictions\n",
        "pred_pos1 = [0 for _ in range(1)] + [1 for _ in range(99)]\n",
        "pred_pos2 = [0 for _ in range(1)] + [2 for _ in range(99)]\n",
        "pred_neg = [1 for _ in range(1)] + \\\n",
        "    [2 for _ in range(1)] + [0 for _ in range(9998)]\n",
        "y_pred = pred_pos1 + pred_pos2 + pred_neg\n",
        "# calculate prediction\n",
        "precision = precision_score(y_true, y_pred, labels=[1, 2], average='micro')\n",
        "print('Precision: %.3f' % precision)"
      ]
    },
    {
      "source": [
        "### Make Classification with weight 1:100\n",
        "We create the dataset by classifying a sample size of 1000 with 2 features, with a weight of 1:100"
      ],
      "cell_type": "markdown",
      "metadata": {}
    },
    {
      "cell_type": "code",
      "metadata": {
        "id": "cfxekqEeCi57"
      },
      "source": [
        "\n",
        "from sklearn.datasets import make_classification\n",
        "X, y = make_classification(n_samples=1000, n_features=2, n_redundant=0,\n",
        "\tn_clusters_per_class=1, weights=[0.99], flip_y=0, random_state=1)"
      ],
      "execution_count": 4,
      "outputs": []
    },
    {
      "source": [
        "### Display the results\n",
        "\n",
        "We vary the dataset size for a 1:100 imbalanced dataset and display on a plot\n",
        "\n",
        "I picked the colors from the tableu20 set: \n",
        "```#tableau20 = [(31, 119, 180), (174, 199, 232), (255, 127, 14), (255, 187, 120),\n",
        "#             (44, 160, 44), (152, 223, 138), (214, 39, 40), (255, 152, 150),    \n",
        "#             (148, 103, 189), (197, 176, 213), (140, 86, 75), (196, 156, 148),    \n",
        "#             (227, 119, 194), (247, 182, 210), (127, 127, 127), (199, 199, 199),    \n",
        "#             (188, 189, 34), (219, 219, 141), (23, 190, 207), (158, 218, 229)]\n"
      ],
      "cell_type": "markdown",
      "metadata": {}
    },
    {
      "cell_type": "code",
      "metadata": {
        "colab": {
          "base_uri": "https://localhost:8080/",
          "height": 344
        },
        "id": "aUyFxyqRDBoF",
        "outputId": "b9bb0f07-1068-46b1-ccc9-a844ddb3dc16"
      },
      "source": [
        "\n",
        "from collections import Counter\n",
        "from sklearn.datasets import make_classification\n",
        "from matplotlib import pyplot\n",
        "from numpy import where\n",
        "import itertools\n",
        "\n",
        "# dataset sizes\n",
        "sizes = [100, 1000, 10000, 100000]\n",
        "\n",
        "colorSet = [(174, 199, 232), (148, 103, 189)] \n",
        "\n",
        "for i in range(len(colorSet)):    \n",
        "    r, g, b = colorSet[i]    \n",
        "    colorSet[i] = (r / 255., g / 255., b / 255.)  \n",
        "\n",
        "colors = itertools.cycle(colorSet)\n",
        "# create and plot a dataset with each size\n",
        "for i in range(len(sizes)):\n",
        "\t# determine the dataset size\n",
        "\tn = sizes[i]\n",
        "\t# create the dataset\n",
        "\tX, y = make_classification(n_samples=n, n_features=2, n_redundant=0,\n",
        "\t\tn_clusters_per_class=1, weights=[0.1], flip_y=0, random_state=1)\n",
        "\t# summarize class distribution\n",
        "\tcounter = Counter(y)\n",
        "\tprint('Size=%d, Ratio=%s' % (n, counter))\n",
        "\t# define subplot\n",
        "\tpyplot.subplot(2, 2, 1+i)\n",
        "\tpyplot.title('n=%d' % n)\n",
        "\tpyplot.xticks([])\n",
        "\tpyplot.yticks([])\n",
        "\t# scatter plot of examples by class label\n",
        "\tfor label, _ in counter.items():\n",
        "\t\trow_ix = where(y == label)[0]\n",
        "\t\tpyplot.scatter(X[row_ix, 0], X[row_ix, 1], label=str(label), color=next(colors))\n",
        "\tpyplot.legend()\n",
        "# show the figure\n",
        "pyplot.show()"
      ],
      "execution_count": 85,
      "outputs": [
        {
          "output_type": "stream",
          "text": [
            "Size=100, Ratio=Counter({1: 90, 0: 10})\n",
            "Size=1000, Ratio=Counter({1: 900, 0: 100})\n",
            "Size=10000, Ratio=Counter({1: 9000, 0: 1000})\n",
            "Size=100000, Ratio=Counter({1: 90000, 0: 10000})\n"
          ],
          "name": "stdout"
        },
        {
          "output_type": "display_data",
          "data": {
            "image/png": "[encoded data removed]",
            "text/plain": [
              "<Figure size 432x288 with 4 Axes>"
            ]
          },
          "metadata": {
            "tags": []
          }
        }
      ]
    }
  ]
}