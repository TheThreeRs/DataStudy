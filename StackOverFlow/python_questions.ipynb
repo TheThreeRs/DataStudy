{
 "metadata": {
  "language_info": {
   "codemirror_mode": {
    "name": "ipython",
    "version": 3
   },
   "file_extension": ".py",
   "mimetype": "text/x-python",
   "name": "python",
   "nbconvert_exporter": "python",
   "pygments_lexer": "ipython3",
   "version": "3.7.7-final"
  },
  "orig_nbformat": 2,
  "kernelspec": {
   "name": "python3",
   "display_name": "Python 3",
   "language": "python"
  }
 },
 "nbformat": 4,
 "nbformat_minor": 2,
 "cells": [
  {
   "cell_type": "code",
   "execution_count": 35,
   "metadata": {},
   "outputs": [
    {
     "output_type": "execute_result",
     "data": {
      "text/plain": [
       "      Lucy    23   F      diabetes\n",
       "0   Darwin  60.0   M  hypertension\n",
       "1     Dave   NaN   M      epilepsy\n",
       "2     Luke   NaN   M      epilepsy\n",
       "3  Tiffany  12.0   F        asthma"
      ],
      "text/html": "<div>\n<style scoped>\n    .dataframe tbody tr th:only-of-type {\n        vertical-align: middle;\n    }\n\n    .dataframe tbody tr th {\n        vertical-align: top;\n    }\n\n    .dataframe thead th {\n        text-align: right;\n    }\n</style>\n<table border=\"1\" class=\"dataframe\">\n  <thead>\n    <tr style=\"text-align: right;\">\n      <th></th>\n      <th>Lucy</th>\n      <th>23</th>\n      <th>F</th>\n      <th>diabetes</th>\n    </tr>\n  </thead>\n  <tbody>\n    <tr>\n      <th>0</th>\n      <td>Darwin</td>\n      <td>60.0</td>\n      <td>M</td>\n      <td>hypertension</td>\n    </tr>\n    <tr>\n      <th>1</th>\n      <td>Dave</td>\n      <td>NaN</td>\n      <td>M</td>\n      <td>epilepsy</td>\n    </tr>\n    <tr>\n      <th>2</th>\n      <td>Luke</td>\n      <td>NaN</td>\n      <td>M</td>\n      <td>epilepsy</td>\n    </tr>\n    <tr>\n      <th>3</th>\n      <td>Tiffany</td>\n      <td>12.0</td>\n      <td>F</td>\n      <td>asthma</td>\n    </tr>\n  </tbody>\n</table>\n</div>"
     },
     "metadata": {},
     "execution_count": 35
    }
   ],
   "source": [
    "import pandas as pd\n",
    "data=pd.read_csv(\"data.csv\")\n",
    "data"
   ]
  },
  {
   "cell_type": "code",
   "execution_count": 36,
   "metadata": {},
   "outputs": [
    {
     "output_type": "stream",
     "name": "stdout",
     "text": [
      "Tokenization took: 0.01 ms\nType conversion took: 0.86 ms\nParser memory cleanup took: 0.01 ms\nnew data: \n       Name   Age Gender     Condition\n0     Lucy  23.0      F      diabetes\n1   Darwin  60.0      M  hypertension\n4  Tiffany  12.0      F        asthma\n"
     ]
    }
   ],
   "source": [
    "import pandas as pd\n",
    "data=pd.read_csv(\"data.csv\", header=None ,names=[\"Name\", \"Age\", \"Gender\", \"Condition\"], index_col=False, na_values=\",NaN, null\", verbose=True)\n",
    "data=pd.DataFrame(data)\n",
    "newdata=data.dropna(subset=['Age'])\n",
    "print(\"new data: \\n\", newdata)\n"
   ]
  },
  {
   "cell_type": "code",
   "execution_count": null,
   "metadata": {},
   "outputs": [],
   "source": []
  }
 ]
}